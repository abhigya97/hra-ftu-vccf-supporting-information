{
 "cells": [
  {
   "cell_type": "code",
   "execution_count": 1,
   "metadata": {},
   "outputs": [],
   "source": [
    "# !pip install vl-convert-python\n",
    "# !pip install svgutils\n",
    "# !pip install lxml"
   ]
  },
  {
   "cell_type": "code",
   "execution_count": 2,
   "metadata": {},
   "outputs": [
    {
     "name": "stderr",
     "output_type": "stream",
     "text": [
      "/N/u/abagra/BigRed200/anaconda3/lib/python3.12/site-packages/cudf/utils/_ptxcompiler.py:64: UserWarning: Error getting driver and runtime versions:\n",
      "\n",
      "stdout:\n",
      "\n",
      "\n",
      "\n",
      "stderr:\n",
      "\n",
      "Traceback (most recent call last):\n",
      "  File \"/N/u/abagra/BigRed200/anaconda3/lib/python3.12/site-packages/numba_cuda/numba/cuda/cudadrv/driver.py\", line 254, in ensure_initialized\n",
      "    self.cuInit(0)\n",
      "  File \"/N/u/abagra/BigRed200/anaconda3/lib/python3.12/site-packages/numba_cuda/numba/cuda/cudadrv/driver.py\", line 304, in safe_cuda_api_call\n",
      "    self._check_ctypes_error(fname, retcode)\n",
      "  File \"/N/u/abagra/BigRed200/anaconda3/lib/python3.12/site-packages/numba_cuda/numba/cuda/cudadrv/driver.py\", line 372, in _check_ctypes_error\n",
      "    raise CudaAPIError(retcode, msg)\n",
      "numba.cuda.cudadrv.driver.CudaAPIError: [100] Call to cuInit results in CUDA_ERROR_NO_DEVICE\n",
      "\n",
      "During handling of the above exception, another exception occurred:\n",
      "\n",
      "Traceback (most recent call last):\n",
      "  File \"<string>\", line 4, in <module>\n",
      "  File \"/N/u/abagra/BigRed200/anaconda3/lib/python3.12/site-packages/numba_cuda/numba/cuda/cudadrv/driver.py\", line 269, in __getattr__\n",
      "    self.ensure_initialized()\n",
      "  File \"/N/u/abagra/BigRed200/anaconda3/lib/python3.12/site-packages/numba_cuda/numba/cuda/cudadrv/driver.py\", line 258, in ensure_initialized\n",
      "    raise CudaSupportError(f\"Error at driver init: {description}\")\n",
      "numba.cuda.cudadrv.error.CudaSupportError: Error at driver init: Call to cuInit results in CUDA_ERROR_NO_DEVICE (100)\n",
      "\n",
      "\n",
      "Not patching Numba\n",
      "  warnings.warn(msg, UserWarning)\n",
      "/N/u/abagra/BigRed200/anaconda3/lib/python3.12/site-packages/cudf/utils/gpu_utils.py:149: UserWarning: No NVIDIA GPU detected\n",
      "  warnings.warn(\"No NVIDIA GPU detected\")\n"
     ]
    }
   ],
   "source": [
    "import pandas as pd\n",
    "import numpy as np\n",
    "import matplotlib.pyplot as plt\n",
    "import networkx as nx\n",
    "from pyvis import network as net\n",
    "import json\n",
    "from os import listdir\n",
    "import requests\n",
    "import io\n",
    "\n",
    "\n",
    "import datashader as ds\n",
    "import datashader.transfer_functions as tf\n",
    "from datashader.bundling import hammer_bundle\n",
    "import vl_convert as vlc\n",
    "import svgutils.transform as st\n",
    "\n",
    "import json\n",
    "from vl_convert import vegalite_to_svg\n",
    "from lxml import etree\n",
    "import xml.etree.ElementTree as ET\n",
    "\n",
    "pd.options.display.max_columns = None"
   ]
  },
  {
   "cell_type": "markdown",
   "metadata": {},
   "source": [
    "## Data Paths"
   ]
  },
  {
   "cell_type": "code",
   "execution_count": 3,
   "metadata": {},
   "outputs": [],
   "source": [
    "# nodes_url = \"https://raw.githubusercontent.com/cns-iu/hra-ftu-vccf-supporting-information/main/code/data/asct-nodes.csv\" \n",
    "# edges_url = \"https://raw.githubusercontent.com/cns-iu/hra-ftu-vccf-supporting-information/main/code/data/asct-edges.csv\"\n",
    "# blood_edges_url = \"https://raw.githubusercontent.com/cns-iu/hra-ftu-vccf-supporting-information/main/code/data/asct-blood-vasculature-edges.csv\"\n",
    "\n",
    "#use build_network.py to build data for latest release and save it in folder data\n",
    "\n",
    "nodes_url = \"data/asct-nodes.csv\" \n",
    "edges_url = \"data/asct-edges.csv\"\n",
    "blood_edges_url = \"data/asct-blood-vasculature-edges.csv\"\n",
    "\n",
    "output_path = \"./viz_v2.0\"\n",
    "## Make sure to save vega_config file in output_path/vega_config/\n",
    "\n",
    "canvas_size = 1720"
   ]
  },
  {
   "cell_type": "markdown",
   "metadata": {},
   "source": [
    "## Code"
   ]
  },
  {
   "cell_type": "code",
   "execution_count": 4,
   "metadata": {},
   "outputs": [],
   "source": [
    "nodes = pd.read_csv(nodes_url)\n",
    "edges = pd.read_csv(edges_url)"
   ]
  },
  {
   "cell_type": "code",
   "execution_count": 5,
   "metadata": {},
   "outputs": [],
   "source": [
    "omitted_organs = ['muscular_system', 'skeleton'] + ['lymph_vasculature', 'peripheral_nervous_system', 'blood_pelvis',] \n",
    "\n",
    "\n",
    "nodes = nodes[~nodes['organ'].isin(omitted_organs)]\n",
    "edges = edges[~edges['organ'].isin(omitted_organs)]"
   ]
  },
  {
   "cell_type": "code",
   "execution_count": 6,
   "metadata": {},
   "outputs": [
    {
     "data": {
      "text/html": [
       "<div>\n",
       "<style scoped>\n",
       "    .dataframe tbody tr th:only-of-type {\n",
       "        vertical-align: middle;\n",
       "    }\n",
       "\n",
       "    .dataframe tbody tr th {\n",
       "        vertical-align: top;\n",
       "    }\n",
       "\n",
       "    .dataframe thead th {\n",
       "        text-align: right;\n",
       "    }\n",
       "</style>\n",
       "<table border=\"1\" class=\"dataframe\">\n",
       "  <thead>\n",
       "    <tr style=\"text-align: right;\">\n",
       "      <th></th>\n",
       "      <th>organ</th>\n",
       "      <th>source</th>\n",
       "      <th>target</th>\n",
       "      <th>source_type</th>\n",
       "      <th>target_type</th>\n",
       "    </tr>\n",
       "  </thead>\n",
       "  <tbody>\n",
       "    <tr>\n",
       "      <th>0</th>\n",
       "      <td>blood_vasculature</td>\n",
       "      <td>UBERON:0013702</td>\n",
       "      <td>UBERON:0000948</td>\n",
       "      <td>AS</td>\n",
       "      <td>AS</td>\n",
       "    </tr>\n",
       "    <tr>\n",
       "      <th>1</th>\n",
       "      <td>allen_brain</td>\n",
       "      <td>UBERON:0013702</td>\n",
       "      <td>UBERON:0000955</td>\n",
       "      <td>AS</td>\n",
       "      <td>AS</td>\n",
       "    </tr>\n",
       "    <tr>\n",
       "      <th>3</th>\n",
       "      <td>bone_marrow</td>\n",
       "      <td>UBERON:0013702</td>\n",
       "      <td>UBERON:0002371</td>\n",
       "      <td>AS</td>\n",
       "      <td>AS</td>\n",
       "    </tr>\n",
       "    <tr>\n",
       "      <th>4</th>\n",
       "      <td>eye</td>\n",
       "      <td>UBERON:0013702</td>\n",
       "      <td>UBERON:0000970</td>\n",
       "      <td>AS</td>\n",
       "      <td>AS</td>\n",
       "    </tr>\n",
       "    <tr>\n",
       "      <th>5</th>\n",
       "      <td>fallopian_tube</td>\n",
       "      <td>UBERON:0013702</td>\n",
       "      <td>UBERON:0003889</td>\n",
       "      <td>AS</td>\n",
       "      <td>AS</td>\n",
       "    </tr>\n",
       "    <tr>\n",
       "      <th>...</th>\n",
       "      <td>...</td>\n",
       "      <td>...</td>\n",
       "      <td>...</td>\n",
       "      <td>...</td>\n",
       "      <td>...</td>\n",
       "    </tr>\n",
       "    <tr>\n",
       "      <th>11923</th>\n",
       "      <td>uterus</td>\n",
       "      <td>UBERON:0011949$$8713</td>\n",
       "      <td>ASCTB-TEMP:luminal-epithelial-cell$$8714</td>\n",
       "      <td>AS</td>\n",
       "      <td>CT</td>\n",
       "    </tr>\n",
       "    <tr>\n",
       "      <th>11924</th>\n",
       "      <td>uterus</td>\n",
       "      <td>UBERON:0002451$$8715</td>\n",
       "      <td>UBERON:0012276$$8716</td>\n",
       "      <td>AS</td>\n",
       "      <td>AS</td>\n",
       "    </tr>\n",
       "    <tr>\n",
       "      <th>11925</th>\n",
       "      <td>uterus</td>\n",
       "      <td>UBERON:0002451$$8715</td>\n",
       "      <td>UBERON:0011949$$8718</td>\n",
       "      <td>AS</td>\n",
       "      <td>AS</td>\n",
       "    </tr>\n",
       "    <tr>\n",
       "      <th>11926</th>\n",
       "      <td>uterus</td>\n",
       "      <td>UBERON:0012276$$8716</td>\n",
       "      <td>ASCTB-TEMP:glandular-epithelial-cell$$8717</td>\n",
       "      <td>AS</td>\n",
       "      <td>CT</td>\n",
       "    </tr>\n",
       "    <tr>\n",
       "      <th>11927</th>\n",
       "      <td>uterus</td>\n",
       "      <td>UBERON:0011949$$8718</td>\n",
       "      <td>ASCTB-TEMP:luminal-epithelial-cell$$8719</td>\n",
       "      <td>AS</td>\n",
       "      <td>CT</td>\n",
       "    </tr>\n",
       "  </tbody>\n",
       "</table>\n",
       "<p>11898 rows × 5 columns</p>\n",
       "</div>"
      ],
      "text/plain": [
       "                   organ                source   \n",
       "0      blood_vasculature        UBERON:0013702  \\\n",
       "1            allen_brain        UBERON:0013702   \n",
       "3            bone_marrow        UBERON:0013702   \n",
       "4                    eye        UBERON:0013702   \n",
       "5         fallopian_tube        UBERON:0013702   \n",
       "...                  ...                   ...   \n",
       "11923             uterus  UBERON:0011949$$8713   \n",
       "11924             uterus  UBERON:0002451$$8715   \n",
       "11925             uterus  UBERON:0002451$$8715   \n",
       "11926             uterus  UBERON:0012276$$8716   \n",
       "11927             uterus  UBERON:0011949$$8718   \n",
       "\n",
       "                                           target source_type target_type  \n",
       "0                                  UBERON:0000948          AS          AS  \n",
       "1                                  UBERON:0000955          AS          AS  \n",
       "3                                  UBERON:0002371          AS          AS  \n",
       "4                                  UBERON:0000970          AS          AS  \n",
       "5                                  UBERON:0003889          AS          AS  \n",
       "...                                           ...         ...         ...  \n",
       "11923    ASCTB-TEMP:luminal-epithelial-cell$$8714          AS          CT  \n",
       "11924                        UBERON:0012276$$8716          AS          AS  \n",
       "11925                        UBERON:0011949$$8718          AS          AS  \n",
       "11926  ASCTB-TEMP:glandular-epithelial-cell$$8717          AS          CT  \n",
       "11927    ASCTB-TEMP:luminal-epithelial-cell$$8719          AS          CT  \n",
       "\n",
       "[11898 rows x 5 columns]"
      ]
     },
     "execution_count": 6,
     "metadata": {},
     "output_type": "execute_result"
    }
   ],
   "source": [
    "edges"
   ]
  },
  {
   "cell_type": "code",
   "execution_count": 7,
   "metadata": {},
   "outputs": [
    {
     "data": {
      "text/plain": [
       "organ\n",
       "blood_vasculature    4531\n",
       "ovary                2070\n",
       "large_intestine      1333\n",
       "allen_brain           868\n",
       "uterus                696\n",
       "heart                 257\n",
       "lung                  206\n",
       "spleen                201\n",
       "small_intestine       181\n",
       "pancreas              175\n",
       "fallopian_tube        174\n",
       "placenta              166\n",
       "kidney                157\n",
       "lymph_node            128\n",
       "spinal_cord           127\n",
       "thymus                106\n",
       "skin                   90\n",
       "eye                    85\n",
       "palatine_tonsil        70\n",
       "bone_marrow            50\n",
       "liver                  48\n",
       "trachea                37\n",
       "prostate               34\n",
       "urinary_bladder        32\n",
       "knee                   29\n",
       "main_bronchus          26\n",
       "ureter                 21\n",
       "Name: count, dtype: int64"
      ]
     },
     "execution_count": 7,
     "metadata": {},
     "output_type": "execute_result"
    }
   ],
   "source": [
    "edges['organ'].value_counts()"
   ]
  },
  {
   "cell_type": "code",
   "execution_count": 8,
   "metadata": {},
   "outputs": [
    {
     "data": {
      "text/plain": [
       "0"
      ]
     },
     "execution_count": 8,
     "metadata": {},
     "output_type": "execute_result"
    }
   ],
   "source": [
    "nodes.duplicated(subset=['id', 'type', 'organ', 'ontology_id']).sum()"
   ]
  },
  {
   "cell_type": "code",
   "execution_count": 9,
   "metadata": {},
   "outputs": [
    {
     "data": {
      "text/plain": [
       "0"
      ]
     },
     "execution_count": 9,
     "metadata": {},
     "output_type": "execute_result"
    }
   ],
   "source": [
    "nodes.duplicated(subset=['id'], keep=False).sum()"
   ]
  },
  {
   "cell_type": "code",
   "execution_count": 10,
   "metadata": {},
   "outputs": [],
   "source": [
    "def get_nodes(name=None, ontology_id=None):\n",
    "    if name:\n",
    "        return nodes[nodes['name'].str.lower()==name.lower()]\n",
    "    if ontology_id:\n",
    "        return nodes[nodes['ontology_id']==ontology_id]   "
   ]
  },
  {
   "cell_type": "code",
   "execution_count": 11,
   "metadata": {},
   "outputs": [
    {
     "data": {
      "text/html": [
       "<div>\n",
       "<style scoped>\n",
       "    .dataframe tbody tr th:only-of-type {\n",
       "        vertical-align: middle;\n",
       "    }\n",
       "\n",
       "    .dataframe tbody tr th {\n",
       "        vertical-align: top;\n",
       "    }\n",
       "\n",
       "    .dataframe thead th {\n",
       "        text-align: right;\n",
       "    }\n",
       "</style>\n",
       "<table border=\"1\" class=\"dataframe\">\n",
       "  <thead>\n",
       "    <tr style=\"text-align: right;\">\n",
       "      <th></th>\n",
       "      <th>id</th>\n",
       "      <th>name</th>\n",
       "      <th>type</th>\n",
       "      <th>organ</th>\n",
       "      <th>ontology_id</th>\n",
       "    </tr>\n",
       "  </thead>\n",
       "  <tbody>\n",
       "    <tr>\n",
       "      <th>0</th>\n",
       "      <td>UBERON:0013702</td>\n",
       "      <td>body</td>\n",
       "      <td>AS</td>\n",
       "      <td>body</td>\n",
       "      <td>UBERON:0013702</td>\n",
       "    </tr>\n",
       "  </tbody>\n",
       "</table>\n",
       "</div>"
      ],
      "text/plain": [
       "               id  name type organ     ontology_id\n",
       "0  UBERON:0013702  body   AS  body  UBERON:0013702"
      ]
     },
     "execution_count": 11,
     "metadata": {},
     "output_type": "execute_result"
    }
   ],
   "source": [
    "get_nodes(name='body')"
   ]
  },
  {
   "cell_type": "code",
   "execution_count": 12,
   "metadata": {},
   "outputs": [
    {
     "data": {
      "text/html": [
       "<div>\n",
       "<style scoped>\n",
       "    .dataframe tbody tr th:only-of-type {\n",
       "        vertical-align: middle;\n",
       "    }\n",
       "\n",
       "    .dataframe tbody tr th {\n",
       "        vertical-align: top;\n",
       "    }\n",
       "\n",
       "    .dataframe thead th {\n",
       "        text-align: right;\n",
       "    }\n",
       "</style>\n",
       "<table border=\"1\" class=\"dataframe\">\n",
       "  <thead>\n",
       "    <tr style=\"text-align: right;\">\n",
       "      <th></th>\n",
       "      <th>id</th>\n",
       "      <th>name</th>\n",
       "      <th>type</th>\n",
       "      <th>organ</th>\n",
       "      <th>ontology_id</th>\n",
       "    </tr>\n",
       "  </thead>\n",
       "  <tbody>\n",
       "    <tr>\n",
       "      <th>0</th>\n",
       "      <td>UBERON:0013702</td>\n",
       "      <td>body</td>\n",
       "      <td>AS</td>\n",
       "      <td>body</td>\n",
       "      <td>UBERON:0013702</td>\n",
       "    </tr>\n",
       "  </tbody>\n",
       "</table>\n",
       "</div>"
      ],
      "text/plain": [
       "               id  name type organ     ontology_id\n",
       "0  UBERON:0013702  body   AS  body  UBERON:0013702"
      ]
     },
     "execution_count": 12,
     "metadata": {},
     "output_type": "execute_result"
    }
   ],
   "source": [
    "get_nodes(ontology_id='UBERON:0013702')"
   ]
  },
  {
   "cell_type": "code",
   "execution_count": 13,
   "metadata": {},
   "outputs": [],
   "source": [
    "whole_graph = nx.from_pandas_edgelist(edges, source='source', target='target', edge_attr=True)"
   ]
  },
  {
   "cell_type": "code",
   "execution_count": 14,
   "metadata": {},
   "outputs": [
    {
     "data": {
      "text/plain": [
       "True"
      ]
     },
     "execution_count": 14,
     "metadata": {},
     "output_type": "execute_result"
    }
   ],
   "source": [
    "nx.is_tree(whole_graph)"
   ]
  },
  {
   "cell_type": "code",
   "execution_count": 15,
   "metadata": {},
   "outputs": [
    {
     "data": {
      "text/html": [
       "<div>\n",
       "<style scoped>\n",
       "    .dataframe tbody tr th:only-of-type {\n",
       "        vertical-align: middle;\n",
       "    }\n",
       "\n",
       "    .dataframe tbody tr th {\n",
       "        vertical-align: top;\n",
       "    }\n",
       "\n",
       "    .dataframe thead th {\n",
       "        text-align: right;\n",
       "    }\n",
       "</style>\n",
       "<table border=\"1\" class=\"dataframe\">\n",
       "  <thead>\n",
       "    <tr style=\"text-align: right;\">\n",
       "      <th></th>\n",
       "      <th>id</th>\n",
       "      <th>name</th>\n",
       "      <th>type</th>\n",
       "      <th>organ</th>\n",
       "      <th>ontology_id</th>\n",
       "    </tr>\n",
       "  </thead>\n",
       "  <tbody>\n",
       "    <tr>\n",
       "      <th>0</th>\n",
       "      <td>UBERON:0013702</td>\n",
       "      <td>body</td>\n",
       "      <td>AS</td>\n",
       "      <td>body</td>\n",
       "      <td>UBERON:0013702</td>\n",
       "    </tr>\n",
       "    <tr>\n",
       "      <th>1</th>\n",
       "      <td>UBERON:0000948</td>\n",
       "      <td>heart</td>\n",
       "      <td>AS</td>\n",
       "      <td>blood_vasculature</td>\n",
       "      <td>UBERON:0000948</td>\n",
       "    </tr>\n",
       "    <tr>\n",
       "      <th>2</th>\n",
       "      <td>UBERON:0002079</td>\n",
       "      <td>left cardiac atrium</td>\n",
       "      <td>AS</td>\n",
       "      <td>blood_vasculature</td>\n",
       "      <td>UBERON:0002079</td>\n",
       "    </tr>\n",
       "    <tr>\n",
       "      <th>3</th>\n",
       "      <td>CL:0010008</td>\n",
       "      <td>cardiac endothelial cell</td>\n",
       "      <td>CT</td>\n",
       "      <td>blood_vasculature</td>\n",
       "      <td>CL:0010008</td>\n",
       "    </tr>\n",
       "    <tr>\n",
       "      <th>4</th>\n",
       "      <td>FMA:49913</td>\n",
       "      <td>Left inferior pulmonary vein</td>\n",
       "      <td>AS</td>\n",
       "      <td>blood_vasculature</td>\n",
       "      <td>FMA:49913</td>\n",
       "    </tr>\n",
       "    <tr>\n",
       "      <th>...</th>\n",
       "      <td>...</td>\n",
       "      <td>...</td>\n",
       "      <td>...</td>\n",
       "      <td>...</td>\n",
       "      <td>...</td>\n",
       "    </tr>\n",
       "    <tr>\n",
       "      <th>11924</th>\n",
       "      <td>UBERON:0002451$$8715</td>\n",
       "      <td>endometrial gland</td>\n",
       "      <td>AS</td>\n",
       "      <td>uterus</td>\n",
       "      <td>UBERON:0002451</td>\n",
       "    </tr>\n",
       "    <tr>\n",
       "      <th>11925</th>\n",
       "      <td>UBERON:0012276$$8716</td>\n",
       "      <td>endometrium glandular epithelium</td>\n",
       "      <td>AS</td>\n",
       "      <td>uterus</td>\n",
       "      <td>UBERON:0012276</td>\n",
       "    </tr>\n",
       "    <tr>\n",
       "      <th>11926</th>\n",
       "      <td>ASCTB-TEMP:glandular-epithelial-cell$$8717</td>\n",
       "      <td>glandular epithelial cell</td>\n",
       "      <td>CT</td>\n",
       "      <td>uterus</td>\n",
       "      <td>ASCTB-TEMP:glandular-epithelial-cell</td>\n",
       "    </tr>\n",
       "    <tr>\n",
       "      <th>11927</th>\n",
       "      <td>UBERON:0011949$$8718</td>\n",
       "      <td>endometrium luminal epithelium</td>\n",
       "      <td>AS</td>\n",
       "      <td>uterus</td>\n",
       "      <td>UBERON:0011949</td>\n",
       "    </tr>\n",
       "    <tr>\n",
       "      <th>11928</th>\n",
       "      <td>ASCTB-TEMP:luminal-epithelial-cell$$8719</td>\n",
       "      <td>luminal epithelial cell</td>\n",
       "      <td>CT</td>\n",
       "      <td>uterus</td>\n",
       "      <td>ASCTB-TEMP:luminal-epithelial-cell</td>\n",
       "    </tr>\n",
       "  </tbody>\n",
       "</table>\n",
       "<p>11899 rows × 5 columns</p>\n",
       "</div>"
      ],
      "text/plain": [
       "                                               id   \n",
       "0                                  UBERON:0013702  \\\n",
       "1                                  UBERON:0000948   \n",
       "2                                  UBERON:0002079   \n",
       "3                                      CL:0010008   \n",
       "4                                       FMA:49913   \n",
       "...                                           ...   \n",
       "11924                        UBERON:0002451$$8715   \n",
       "11925                        UBERON:0012276$$8716   \n",
       "11926  ASCTB-TEMP:glandular-epithelial-cell$$8717   \n",
       "11927                        UBERON:0011949$$8718   \n",
       "11928    ASCTB-TEMP:luminal-epithelial-cell$$8719   \n",
       "\n",
       "                                   name type              organ   \n",
       "0                                  body   AS               body  \\\n",
       "1                                 heart   AS  blood_vasculature   \n",
       "2                   left cardiac atrium   AS  blood_vasculature   \n",
       "3              cardiac endothelial cell   CT  blood_vasculature   \n",
       "4          Left inferior pulmonary vein   AS  blood_vasculature   \n",
       "...                                 ...  ...                ...   \n",
       "11924                 endometrial gland   AS             uterus   \n",
       "11925  endometrium glandular epithelium   AS             uterus   \n",
       "11926         glandular epithelial cell   CT             uterus   \n",
       "11927    endometrium luminal epithelium   AS             uterus   \n",
       "11928           luminal epithelial cell   CT             uterus   \n",
       "\n",
       "                                ontology_id  \n",
       "0                            UBERON:0013702  \n",
       "1                            UBERON:0000948  \n",
       "2                            UBERON:0002079  \n",
       "3                                CL:0010008  \n",
       "4                                 FMA:49913  \n",
       "...                                     ...  \n",
       "11924                        UBERON:0002451  \n",
       "11925                        UBERON:0012276  \n",
       "11926  ASCTB-TEMP:glandular-epithelial-cell  \n",
       "11927                        UBERON:0011949  \n",
       "11928    ASCTB-TEMP:luminal-epithelial-cell  \n",
       "\n",
       "[11899 rows x 5 columns]"
      ]
     },
     "execution_count": 15,
     "metadata": {},
     "output_type": "execute_result"
    }
   ],
   "source": [
    "nodes"
   ]
  },
  {
   "cell_type": "code",
   "execution_count": 16,
   "metadata": {},
   "outputs": [
    {
     "data": {
      "text/plain": [
       "id             0\n",
       "name           0\n",
       "type           0\n",
       "organ          0\n",
       "ontology_id    0\n",
       "dtype: int64"
      ]
     },
     "execution_count": 16,
     "metadata": {},
     "output_type": "execute_result"
    }
   ],
   "source": [
    "nodes.isna().sum()"
   ]
  },
  {
   "cell_type": "code",
   "execution_count": 17,
   "metadata": {},
   "outputs": [],
   "source": [
    "organ_order = ['trachea', 'main bronchus', 'respiratory system', 'heart',  'spinal cord', 'brain', 'eye', 'palatine tonsil', \n",
    "               'skin of body', 'thymus', 'lymph node', 'spleen',  'liver', 'Pancreas', 'small intestine',  'large intestine', \n",
    "               'kidney', 'urinary bladder', 'ureter', 'prostate gland',  'ovary', 'fallopian tube', 'uterus',  \n",
    "               'placenta', 'knee', 'Bone marrow']"
   ]
  },
  {
   "cell_type": "markdown",
   "metadata": {},
   "source": [
    "# Nodes that are branching from the 'body' node"
   ]
  },
  {
   "cell_type": "code",
   "execution_count": 18,
   "metadata": {},
   "outputs": [
    {
     "data": {
      "text/html": [
       "<div>\n",
       "<style scoped>\n",
       "    .dataframe tbody tr th:only-of-type {\n",
       "        vertical-align: middle;\n",
       "    }\n",
       "\n",
       "    .dataframe tbody tr th {\n",
       "        vertical-align: top;\n",
       "    }\n",
       "\n",
       "    .dataframe thead th {\n",
       "        text-align: right;\n",
       "    }\n",
       "</style>\n",
       "<table border=\"1\" class=\"dataframe\">\n",
       "  <thead>\n",
       "    <tr style=\"text-align: right;\">\n",
       "      <th></th>\n",
       "      <th>id</th>\n",
       "      <th>name</th>\n",
       "      <th>type</th>\n",
       "      <th>organ</th>\n",
       "      <th>ontology_id</th>\n",
       "    </tr>\n",
       "  </thead>\n",
       "  <tbody>\n",
       "    <tr>\n",
       "      <th>1</th>\n",
       "      <td>UBERON:0000948</td>\n",
       "      <td>heart</td>\n",
       "      <td>AS</td>\n",
       "      <td>blood_vasculature</td>\n",
       "      <td>UBERON:0000948</td>\n",
       "    </tr>\n",
       "    <tr>\n",
       "      <th>4535</th>\n",
       "      <td>UBERON:0000955</td>\n",
       "      <td>brain</td>\n",
       "      <td>AS</td>\n",
       "      <td>allen_brain</td>\n",
       "      <td>UBERON:0000955</td>\n",
       "    </tr>\n",
       "    <tr>\n",
       "      <th>5433</th>\n",
       "      <td>UBERON:0002371</td>\n",
       "      <td>Bone marrow</td>\n",
       "      <td>AS</td>\n",
       "      <td>bone_marrow</td>\n",
       "      <td>UBERON:0002371</td>\n",
       "    </tr>\n",
       "    <tr>\n",
       "      <th>5483</th>\n",
       "      <td>UBERON:0000970</td>\n",
       "      <td>eye</td>\n",
       "      <td>AS</td>\n",
       "      <td>eye</td>\n",
       "      <td>UBERON:0000970</td>\n",
       "    </tr>\n",
       "    <tr>\n",
       "      <th>5568</th>\n",
       "      <td>UBERON:0003889</td>\n",
       "      <td>fallopian tube</td>\n",
       "      <td>AS</td>\n",
       "      <td>fallopian_tube</td>\n",
       "      <td>UBERON:0003889</td>\n",
       "    </tr>\n",
       "    <tr>\n",
       "      <th>5996</th>\n",
       "      <td>UBERON:0002113</td>\n",
       "      <td>kidney</td>\n",
       "      <td>AS</td>\n",
       "      <td>kidney</td>\n",
       "      <td>UBERON:0002113</td>\n",
       "    </tr>\n",
       "    <tr>\n",
       "      <th>6153</th>\n",
       "      <td>UBERON:0001465</td>\n",
       "      <td>knee</td>\n",
       "      <td>AS</td>\n",
       "      <td>knee</td>\n",
       "      <td>UBERON:0001465</td>\n",
       "    </tr>\n",
       "    <tr>\n",
       "      <th>6182</th>\n",
       "      <td>UBERON:0000059</td>\n",
       "      <td>large intestine</td>\n",
       "      <td>AS</td>\n",
       "      <td>large_intestine</td>\n",
       "      <td>UBERON:0000059</td>\n",
       "    </tr>\n",
       "    <tr>\n",
       "      <th>7515</th>\n",
       "      <td>UBERON:0002107</td>\n",
       "      <td>liver</td>\n",
       "      <td>AS</td>\n",
       "      <td>liver</td>\n",
       "      <td>UBERON:0002107</td>\n",
       "    </tr>\n",
       "    <tr>\n",
       "      <th>7563</th>\n",
       "      <td>UBERON:0001004</td>\n",
       "      <td>respiratory system</td>\n",
       "      <td>AS</td>\n",
       "      <td>lung</td>\n",
       "      <td>UBERON:0001004</td>\n",
       "    </tr>\n",
       "    <tr>\n",
       "      <th>7717</th>\n",
       "      <td>UBERON:0008886</td>\n",
       "      <td>pulmonary vascular system</td>\n",
       "      <td>AS</td>\n",
       "      <td>lung</td>\n",
       "      <td>UBERON:0008886</td>\n",
       "    </tr>\n",
       "    <tr>\n",
       "      <th>7728</th>\n",
       "      <td>UBERON:0004573</td>\n",
       "      <td>systemic artery</td>\n",
       "      <td>AS</td>\n",
       "      <td>lung</td>\n",
       "      <td>UBERON:0004573</td>\n",
       "    </tr>\n",
       "    <tr>\n",
       "      <th>7734</th>\n",
       "      <td>UBERON:0003920</td>\n",
       "      <td>venous blood vessel</td>\n",
       "      <td>AS</td>\n",
       "      <td>lung</td>\n",
       "      <td>UBERON:0003920</td>\n",
       "    </tr>\n",
       "    <tr>\n",
       "      <th>7769</th>\n",
       "      <td>UBERON:0000029</td>\n",
       "      <td>lymph node</td>\n",
       "      <td>AS</td>\n",
       "      <td>lymph_node</td>\n",
       "      <td>UBERON:0000029</td>\n",
       "    </tr>\n",
       "    <tr>\n",
       "      <th>7897</th>\n",
       "      <td>UBERON:0002182</td>\n",
       "      <td>main bronchus</td>\n",
       "      <td>AS</td>\n",
       "      <td>main_bronchus</td>\n",
       "      <td>UBERON:0002182</td>\n",
       "    </tr>\n",
       "    <tr>\n",
       "      <th>7931</th>\n",
       "      <td>UBERON:0000992</td>\n",
       "      <td>ovary</td>\n",
       "      <td>AS</td>\n",
       "      <td>ovary</td>\n",
       "      <td>UBERON:0000992</td>\n",
       "    </tr>\n",
       "    <tr>\n",
       "      <th>10001</th>\n",
       "      <td>UBERON:0002373</td>\n",
       "      <td>palatine tonsil</td>\n",
       "      <td>AS</td>\n",
       "      <td>palatine_tonsil</td>\n",
       "      <td>UBERON:0002373</td>\n",
       "    </tr>\n",
       "    <tr>\n",
       "      <th>10071</th>\n",
       "      <td>UBERON:0001264</td>\n",
       "      <td>Pancreas</td>\n",
       "      <td>AS</td>\n",
       "      <td>pancreas</td>\n",
       "      <td>UBERON:0001264</td>\n",
       "    </tr>\n",
       "    <tr>\n",
       "      <th>10246</th>\n",
       "      <td>UBERON:0001987</td>\n",
       "      <td>placenta</td>\n",
       "      <td>AS</td>\n",
       "      <td>placenta</td>\n",
       "      <td>UBERON:0001987</td>\n",
       "    </tr>\n",
       "    <tr>\n",
       "      <th>10412</th>\n",
       "      <td>UBERON:0002367</td>\n",
       "      <td>prostate gland</td>\n",
       "      <td>AS</td>\n",
       "      <td>prostate</td>\n",
       "      <td>UBERON:0002367</td>\n",
       "    </tr>\n",
       "    <tr>\n",
       "      <th>10446</th>\n",
       "      <td>UBERON:0002097</td>\n",
       "      <td>skin of body</td>\n",
       "      <td>AS</td>\n",
       "      <td>skin</td>\n",
       "      <td>UBERON:0002097</td>\n",
       "    </tr>\n",
       "    <tr>\n",
       "      <th>10536</th>\n",
       "      <td>UBERON:0002108</td>\n",
       "      <td>small intestine</td>\n",
       "      <td>AS</td>\n",
       "      <td>small_intestine</td>\n",
       "      <td>UBERON:0002108</td>\n",
       "    </tr>\n",
       "    <tr>\n",
       "      <th>10717</th>\n",
       "      <td>UBERON:0002240</td>\n",
       "      <td>spinal cord</td>\n",
       "      <td>AS</td>\n",
       "      <td>spinal_cord</td>\n",
       "      <td>UBERON:0002240</td>\n",
       "    </tr>\n",
       "    <tr>\n",
       "      <th>10844</th>\n",
       "      <td>UBERON:0002106</td>\n",
       "      <td>spleen</td>\n",
       "      <td>AS</td>\n",
       "      <td>spleen</td>\n",
       "      <td>UBERON:0002106</td>\n",
       "    </tr>\n",
       "    <tr>\n",
       "      <th>11045</th>\n",
       "      <td>UBERON:0002370</td>\n",
       "      <td>thymus</td>\n",
       "      <td>AS</td>\n",
       "      <td>thymus</td>\n",
       "      <td>UBERON:0002370</td>\n",
       "    </tr>\n",
       "    <tr>\n",
       "      <th>11151</th>\n",
       "      <td>UBERON:0003126</td>\n",
       "      <td>trachea</td>\n",
       "      <td>AS</td>\n",
       "      <td>trachea</td>\n",
       "      <td>UBERON:0003126</td>\n",
       "    </tr>\n",
       "    <tr>\n",
       "      <th>11180</th>\n",
       "      <td>UBERON:0000056</td>\n",
       "      <td>ureter</td>\n",
       "      <td>AS</td>\n",
       "      <td>ureter</td>\n",
       "      <td>UBERON:0000056</td>\n",
       "    </tr>\n",
       "    <tr>\n",
       "      <th>11201</th>\n",
       "      <td>UBERON:0001255</td>\n",
       "      <td>urinary bladder</td>\n",
       "      <td>AS</td>\n",
       "      <td>urinary_bladder</td>\n",
       "      <td>UBERON:0001255</td>\n",
       "    </tr>\n",
       "    <tr>\n",
       "      <th>11233</th>\n",
       "      <td>UBERON:0000995</td>\n",
       "      <td>uterus</td>\n",
       "      <td>AS</td>\n",
       "      <td>uterus</td>\n",
       "      <td>UBERON:0000995</td>\n",
       "    </tr>\n",
       "  </tbody>\n",
       "</table>\n",
       "</div>"
      ],
      "text/plain": [
       "                   id                       name type              organ   \n",
       "1      UBERON:0000948                      heart   AS  blood_vasculature  \\\n",
       "4535   UBERON:0000955                      brain   AS        allen_brain   \n",
       "5433   UBERON:0002371                Bone marrow   AS        bone_marrow   \n",
       "5483   UBERON:0000970                        eye   AS                eye   \n",
       "5568   UBERON:0003889             fallopian tube   AS     fallopian_tube   \n",
       "5996   UBERON:0002113                     kidney   AS             kidney   \n",
       "6153   UBERON:0001465                       knee   AS               knee   \n",
       "6182   UBERON:0000059            large intestine   AS    large_intestine   \n",
       "7515   UBERON:0002107                      liver   AS              liver   \n",
       "7563   UBERON:0001004         respiratory system   AS               lung   \n",
       "7717   UBERON:0008886  pulmonary vascular system   AS               lung   \n",
       "7728   UBERON:0004573            systemic artery   AS               lung   \n",
       "7734   UBERON:0003920        venous blood vessel   AS               lung   \n",
       "7769   UBERON:0000029                 lymph node   AS         lymph_node   \n",
       "7897   UBERON:0002182              main bronchus   AS      main_bronchus   \n",
       "7931   UBERON:0000992                      ovary   AS              ovary   \n",
       "10001  UBERON:0002373            palatine tonsil   AS    palatine_tonsil   \n",
       "10071  UBERON:0001264                   Pancreas   AS           pancreas   \n",
       "10246  UBERON:0001987                   placenta   AS           placenta   \n",
       "10412  UBERON:0002367             prostate gland   AS           prostate   \n",
       "10446  UBERON:0002097               skin of body   AS               skin   \n",
       "10536  UBERON:0002108            small intestine   AS    small_intestine   \n",
       "10717  UBERON:0002240                spinal cord   AS        spinal_cord   \n",
       "10844  UBERON:0002106                     spleen   AS             spleen   \n",
       "11045  UBERON:0002370                     thymus   AS             thymus   \n",
       "11151  UBERON:0003126                    trachea   AS            trachea   \n",
       "11180  UBERON:0000056                     ureter   AS             ureter   \n",
       "11201  UBERON:0001255            urinary bladder   AS    urinary_bladder   \n",
       "11233  UBERON:0000995                     uterus   AS             uterus   \n",
       "\n",
       "          ontology_id  \n",
       "1      UBERON:0000948  \n",
       "4535   UBERON:0000955  \n",
       "5433   UBERON:0002371  \n",
       "5483   UBERON:0000970  \n",
       "5568   UBERON:0003889  \n",
       "5996   UBERON:0002113  \n",
       "6153   UBERON:0001465  \n",
       "6182   UBERON:0000059  \n",
       "7515   UBERON:0002107  \n",
       "7563   UBERON:0001004  \n",
       "7717   UBERON:0008886  \n",
       "7728   UBERON:0004573  \n",
       "7734   UBERON:0003920  \n",
       "7769   UBERON:0000029  \n",
       "7897   UBERON:0002182  \n",
       "7931   UBERON:0000992  \n",
       "10001  UBERON:0002373  \n",
       "10071  UBERON:0001264  \n",
       "10246  UBERON:0001987  \n",
       "10412  UBERON:0002367  \n",
       "10446  UBERON:0002097  \n",
       "10536  UBERON:0002108  \n",
       "10717  UBERON:0002240  \n",
       "10844  UBERON:0002106  \n",
       "11045  UBERON:0002370  \n",
       "11151  UBERON:0003126  \n",
       "11180  UBERON:0000056  \n",
       "11201  UBERON:0001255  \n",
       "11233  UBERON:0000995  "
      ]
     },
     "execution_count": 18,
     "metadata": {},
     "output_type": "execute_result"
    }
   ],
   "source": [
    "nodes[nodes['ontology_id'].isin(list(nx.neighbors(whole_graph, 'UBERON:0013702')))]"
   ]
  },
  {
   "cell_type": "code",
   "execution_count": 19,
   "metadata": {},
   "outputs": [],
   "source": [
    "new_edges = edges[(edges['source']=='UBERON:0013702')&(edges['target'].isin(['UBERON:0008886', 'UBERON:0004573', 'UBERON:0003920']))].copy()\n",
    "new_edges['source'].replace('UBERON:0013702', 'UBERON:0001004', inplace=True) #connect the nodes to respiratory system instead of body"
   ]
  },
  {
   "cell_type": "code",
   "execution_count": 20,
   "metadata": {},
   "outputs": [
    {
     "data": {
      "text/html": [
       "<div>\n",
       "<style scoped>\n",
       "    .dataframe tbody tr th:only-of-type {\n",
       "        vertical-align: middle;\n",
       "    }\n",
       "\n",
       "    .dataframe tbody tr th {\n",
       "        vertical-align: top;\n",
       "    }\n",
       "\n",
       "    .dataframe thead th {\n",
       "        text-align: right;\n",
       "    }\n",
       "</style>\n",
       "<table border=\"1\" class=\"dataframe\">\n",
       "  <thead>\n",
       "    <tr style=\"text-align: right;\">\n",
       "      <th></th>\n",
       "      <th>organ</th>\n",
       "      <th>source</th>\n",
       "      <th>target</th>\n",
       "      <th>source_type</th>\n",
       "      <th>target_type</th>\n",
       "    </tr>\n",
       "  </thead>\n",
       "  <tbody>\n",
       "    <tr>\n",
       "      <th>11</th>\n",
       "      <td>lung</td>\n",
       "      <td>UBERON:0001004</td>\n",
       "      <td>UBERON:0008886</td>\n",
       "      <td>AS</td>\n",
       "      <td>AS</td>\n",
       "    </tr>\n",
       "    <tr>\n",
       "      <th>12</th>\n",
       "      <td>lung</td>\n",
       "      <td>UBERON:0001004</td>\n",
       "      <td>UBERON:0004573</td>\n",
       "      <td>AS</td>\n",
       "      <td>AS</td>\n",
       "    </tr>\n",
       "    <tr>\n",
       "      <th>13</th>\n",
       "      <td>lung</td>\n",
       "      <td>UBERON:0001004</td>\n",
       "      <td>UBERON:0003920</td>\n",
       "      <td>AS</td>\n",
       "      <td>AS</td>\n",
       "    </tr>\n",
       "  </tbody>\n",
       "</table>\n",
       "</div>"
      ],
      "text/plain": [
       "   organ          source          target source_type target_type\n",
       "11  lung  UBERON:0001004  UBERON:0008886          AS          AS\n",
       "12  lung  UBERON:0001004  UBERON:0004573          AS          AS\n",
       "13  lung  UBERON:0001004  UBERON:0003920          AS          AS"
      ]
     },
     "execution_count": 20,
     "metadata": {},
     "output_type": "execute_result"
    }
   ],
   "source": [
    "new_edges"
   ]
  },
  {
   "cell_type": "code",
   "execution_count": 21,
   "metadata": {},
   "outputs": [],
   "source": [
    "edges = edges[~((edges['source']=='UBERON:0013702')&(edges['target'].isin(['UBERON:0008886', 'UBERON:0004573', 'UBERON:0003920'])))]\n",
    "edges = pd.concat([edges, new_edges])"
   ]
  },
  {
   "cell_type": "code",
   "execution_count": 22,
   "metadata": {},
   "outputs": [],
   "source": [
    "whole_graph = nx.from_pandas_edgelist(edges, source='source', target='target', edge_attr=True)"
   ]
  },
  {
   "cell_type": "code",
   "execution_count": 23,
   "metadata": {},
   "outputs": [
    {
     "data": {
      "text/plain": [
       "True"
      ]
     },
     "execution_count": 23,
     "metadata": {},
     "output_type": "execute_result"
    }
   ],
   "source": [
    "nx.is_tree(whole_graph)"
   ]
  },
  {
   "cell_type": "code",
   "execution_count": 24,
   "metadata": {},
   "outputs": [],
   "source": [
    "organ_order_in_id = [get_nodes(name=organ)['id'].values[0] for organ in organ_order]"
   ]
  },
  {
   "cell_type": "code",
   "execution_count": 25,
   "metadata": {},
   "outputs": [
    {
     "data": {
      "text/plain": [
       "26"
      ]
     },
     "execution_count": 25,
     "metadata": {},
     "output_type": "execute_result"
    }
   ],
   "source": [
    "len(organ_order_in_id)"
   ]
  },
  {
   "cell_type": "code",
   "execution_count": 26,
   "metadata": {},
   "outputs": [],
   "source": [
    "def get_organ_graph(organ_id):\n",
    "    organ_graph = whole_graph.copy()\n",
    "    organ_graph.remove_edge('UBERON:0013702', organ_id) #remove the edge between body and the organ\n",
    "\n",
    "    connected_components = sorted(list(nx.connected_components(organ_graph)), key=len, reverse=False) #get the connected components\n",
    "\n",
    "    return nx.subgraph(organ_graph, connected_components[0]) #return the smallest connected component"
   ]
  },
  {
   "cell_type": "code",
   "execution_count": 27,
   "metadata": {},
   "outputs": [
    {
     "data": {
      "text/html": [
       "<div>\n",
       "<style scoped>\n",
       "    .dataframe tbody tr th:only-of-type {\n",
       "        vertical-align: middle;\n",
       "    }\n",
       "\n",
       "    .dataframe tbody tr th {\n",
       "        vertical-align: top;\n",
       "    }\n",
       "\n",
       "    .dataframe thead th {\n",
       "        text-align: right;\n",
       "    }\n",
       "</style>\n",
       "<table border=\"1\" class=\"dataframe\">\n",
       "  <thead>\n",
       "    <tr style=\"text-align: right;\">\n",
       "      <th></th>\n",
       "      <th>id</th>\n",
       "      <th>name</th>\n",
       "      <th>type</th>\n",
       "      <th>organ</th>\n",
       "      <th>ontology_id</th>\n",
       "    </tr>\n",
       "  </thead>\n",
       "  <tbody>\n",
       "    <tr>\n",
       "      <th>6153</th>\n",
       "      <td>UBERON:0001465</td>\n",
       "      <td>knee</td>\n",
       "      <td>AS</td>\n",
       "      <td>knee</td>\n",
       "      <td>UBERON:0001465</td>\n",
       "    </tr>\n",
       "  </tbody>\n",
       "</table>\n",
       "</div>"
      ],
      "text/plain": [
       "                  id  name type organ     ontology_id\n",
       "6153  UBERON:0001465  knee   AS  knee  UBERON:0001465"
      ]
     },
     "execution_count": 27,
     "metadata": {},
     "output_type": "execute_result"
    }
   ],
   "source": [
    "nodes[nodes['name']=='knee']"
   ]
  },
  {
   "cell_type": "code",
   "execution_count": 28,
   "metadata": {},
   "outputs": [
    {
     "data": {
      "image/png": "[encoded data removed]",
      "text/plain": [
       "<Figure size 640x480 with 1 Axes>"
      ]
     },
     "metadata": {},
     "output_type": "display_data"
    }
   ],
   "source": [
    "nx.draw(get_organ_graph('UBERON:0001465'))"
   ]
  },
  {
   "cell_type": "markdown",
   "metadata": {},
   "source": [
    "## Generate a new integer-based ID, that takes into account the organ order\n",
    "(This is necesary for the layout, later we can order the nodes and edges based on this integer ID, and then vega will visualize the organs in the desired order)"
   ]
  },
  {
   "cell_type": "code",
   "execution_count": 29,
   "metadata": {},
   "outputs": [],
   "source": [
    "id_to_graph_int_id = {'UBERON:0013702': 0}\n",
    "\n",
    "next_id = 1\n",
    "\n",
    "for i, organ_id in enumerate(organ_order_in_id):\n",
    "    branch_graph = get_organ_graph(organ_id)\n",
    "\n",
    "    branch_graph_new_ids = dict(zip(nx.dfs_preorder_nodes(branch_graph, source=organ_id), range(next_id, next_id+branch_graph.number_of_nodes())))\n",
    "\n",
    "    id_to_graph_int_id.update(branch_graph_new_ids)\n",
    "\n",
    "    next_id += branch_graph.number_of_nodes()\n"
   ]
  },
  {
   "cell_type": "code",
   "execution_count": 30,
   "metadata": {},
   "outputs": [],
   "source": [
    "nodes['graph_int_id'] = nodes['id'].map(id_to_graph_int_id)"
   ]
  },
  {
   "cell_type": "code",
   "execution_count": 31,
   "metadata": {},
   "outputs": [
    {
     "data": {
      "text/html": [
       "<div>\n",
       "<style scoped>\n",
       "    .dataframe tbody tr th:only-of-type {\n",
       "        vertical-align: middle;\n",
       "    }\n",
       "\n",
       "    .dataframe tbody tr th {\n",
       "        vertical-align: top;\n",
       "    }\n",
       "\n",
       "    .dataframe thead th {\n",
       "        text-align: right;\n",
       "    }\n",
       "</style>\n",
       "<table border=\"1\" class=\"dataframe\">\n",
       "  <thead>\n",
       "    <tr style=\"text-align: right;\">\n",
       "      <th></th>\n",
       "      <th>id</th>\n",
       "      <th>name</th>\n",
       "      <th>type</th>\n",
       "      <th>organ</th>\n",
       "      <th>ontology_id</th>\n",
       "      <th>graph_int_id</th>\n",
       "    </tr>\n",
       "  </thead>\n",
       "  <tbody>\n",
       "    <tr>\n",
       "      <th>0</th>\n",
       "      <td>UBERON:0013702</td>\n",
       "      <td>body</td>\n",
       "      <td>AS</td>\n",
       "      <td>body</td>\n",
       "      <td>UBERON:0013702</td>\n",
       "      <td>0</td>\n",
       "    </tr>\n",
       "    <tr>\n",
       "      <th>1</th>\n",
       "      <td>UBERON:0000948</td>\n",
       "      <td>heart</td>\n",
       "      <td>AS</td>\n",
       "      <td>blood_vasculature</td>\n",
       "      <td>UBERON:0000948</td>\n",
       "      <td>262</td>\n",
       "    </tr>\n",
       "    <tr>\n",
       "      <th>2</th>\n",
       "      <td>UBERON:0002079</td>\n",
       "      <td>left cardiac atrium</td>\n",
       "      <td>AS</td>\n",
       "      <td>blood_vasculature</td>\n",
       "      <td>UBERON:0002079</td>\n",
       "      <td>263</td>\n",
       "    </tr>\n",
       "    <tr>\n",
       "      <th>3</th>\n",
       "      <td>CL:0010008</td>\n",
       "      <td>cardiac endothelial cell</td>\n",
       "      <td>CT</td>\n",
       "      <td>blood_vasculature</td>\n",
       "      <td>CL:0010008</td>\n",
       "      <td>264</td>\n",
       "    </tr>\n",
       "    <tr>\n",
       "      <th>4</th>\n",
       "      <td>FMA:49913</td>\n",
       "      <td>Left inferior pulmonary vein</td>\n",
       "      <td>AS</td>\n",
       "      <td>blood_vasculature</td>\n",
       "      <td>FMA:49913</td>\n",
       "      <td>265</td>\n",
       "    </tr>\n",
       "  </tbody>\n",
       "</table>\n",
       "</div>"
      ],
      "text/plain": [
       "               id                          name type              organ   \n",
       "0  UBERON:0013702                          body   AS               body  \\\n",
       "1  UBERON:0000948                         heart   AS  blood_vasculature   \n",
       "2  UBERON:0002079           left cardiac atrium   AS  blood_vasculature   \n",
       "3      CL:0010008      cardiac endothelial cell   CT  blood_vasculature   \n",
       "4       FMA:49913  Left inferior pulmonary vein   AS  blood_vasculature   \n",
       "\n",
       "      ontology_id  graph_int_id  \n",
       "0  UBERON:0013702             0  \n",
       "1  UBERON:0000948           262  \n",
       "2  UBERON:0002079           263  \n",
       "3      CL:0010008           264  \n",
       "4       FMA:49913           265  "
      ]
     },
     "execution_count": 31,
     "metadata": {},
     "output_type": "execute_result"
    }
   ],
   "source": [
    "nodes.head()"
   ]
  },
  {
   "cell_type": "code",
   "execution_count": 32,
   "metadata": {},
   "outputs": [],
   "source": [
    "edges['source_int'] = edges['source'].map(id_to_graph_int_id)\n",
    "edges['target_int'] = edges['target'].map(id_to_graph_int_id)"
   ]
  },
  {
   "cell_type": "code",
   "execution_count": 33,
   "metadata": {},
   "outputs": [
    {
     "data": {
      "text/html": [
       "<div>\n",
       "<style scoped>\n",
       "    .dataframe tbody tr th:only-of-type {\n",
       "        vertical-align: middle;\n",
       "    }\n",
       "\n",
       "    .dataframe tbody tr th {\n",
       "        vertical-align: top;\n",
       "    }\n",
       "\n",
       "    .dataframe thead th {\n",
       "        text-align: right;\n",
       "    }\n",
       "</style>\n",
       "<table border=\"1\" class=\"dataframe\">\n",
       "  <thead>\n",
       "    <tr style=\"text-align: right;\">\n",
       "      <th></th>\n",
       "      <th>organ</th>\n",
       "      <th>source</th>\n",
       "      <th>target</th>\n",
       "      <th>source_type</th>\n",
       "      <th>target_type</th>\n",
       "      <th>source_int</th>\n",
       "      <th>target_int</th>\n",
       "    </tr>\n",
       "  </thead>\n",
       "  <tbody>\n",
       "    <tr>\n",
       "      <th>0</th>\n",
       "      <td>blood_vasculature</td>\n",
       "      <td>UBERON:0013702</td>\n",
       "      <td>UBERON:0000948</td>\n",
       "      <td>AS</td>\n",
       "      <td>AS</td>\n",
       "      <td>0</td>\n",
       "      <td>262</td>\n",
       "    </tr>\n",
       "    <tr>\n",
       "      <th>1</th>\n",
       "      <td>allen_brain</td>\n",
       "      <td>UBERON:0013702</td>\n",
       "      <td>UBERON:0000955</td>\n",
       "      <td>AS</td>\n",
       "      <td>AS</td>\n",
       "      <td>0</td>\n",
       "      <td>5185</td>\n",
       "    </tr>\n",
       "    <tr>\n",
       "      <th>3</th>\n",
       "      <td>bone_marrow</td>\n",
       "      <td>UBERON:0013702</td>\n",
       "      <td>UBERON:0002371</td>\n",
       "      <td>AS</td>\n",
       "      <td>AS</td>\n",
       "      <td>0</td>\n",
       "      <td>11849</td>\n",
       "    </tr>\n",
       "    <tr>\n",
       "      <th>4</th>\n",
       "      <td>eye</td>\n",
       "      <td>UBERON:0013702</td>\n",
       "      <td>UBERON:0000970</td>\n",
       "      <td>AS</td>\n",
       "      <td>AS</td>\n",
       "      <td>0</td>\n",
       "      <td>6053</td>\n",
       "    </tr>\n",
       "    <tr>\n",
       "      <th>5</th>\n",
       "      <td>fallopian_tube</td>\n",
       "      <td>UBERON:0013702</td>\n",
       "      <td>UBERON:0003889</td>\n",
       "      <td>AS</td>\n",
       "      <td>AS</td>\n",
       "      <td>0</td>\n",
       "      <td>10784</td>\n",
       "    </tr>\n",
       "  </tbody>\n",
       "</table>\n",
       "</div>"
      ],
      "text/plain": [
       "               organ          source          target source_type target_type   \n",
       "0  blood_vasculature  UBERON:0013702  UBERON:0000948          AS          AS  \\\n",
       "1        allen_brain  UBERON:0013702  UBERON:0000955          AS          AS   \n",
       "3        bone_marrow  UBERON:0013702  UBERON:0002371          AS          AS   \n",
       "4                eye  UBERON:0013702  UBERON:0000970          AS          AS   \n",
       "5     fallopian_tube  UBERON:0013702  UBERON:0003889          AS          AS   \n",
       "\n",
       "   source_int  target_int  \n",
       "0           0         262  \n",
       "1           0        5185  \n",
       "3           0       11849  \n",
       "4           0        6053  \n",
       "5           0       10784  "
      ]
     },
     "execution_count": 33,
     "metadata": {},
     "output_type": "execute_result"
    }
   ],
   "source": [
    "edges.head()"
   ]
  },
  {
   "cell_type": "code",
   "execution_count": 34,
   "metadata": {},
   "outputs": [],
   "source": [
    "whole_graph_int = nx.from_pandas_edgelist(edges, source='source_int', target='target_int', edge_attr=True)"
   ]
  },
  {
   "cell_type": "code",
   "execution_count": 35,
   "metadata": {},
   "outputs": [],
   "source": [
    "graph_int_id_to_id = {v: k for k, v in id_to_graph_int_id.items()}"
   ]
  },
  {
   "cell_type": "code",
   "execution_count": 36,
   "metadata": {},
   "outputs": [
    {
     "data": {
      "text/plain": [
       "0"
      ]
     },
     "execution_count": 36,
     "metadata": {},
     "output_type": "execute_result"
    }
   ],
   "source": [
    "id_to_graph_int_id['UBERON:0013702']"
   ]
  },
  {
   "cell_type": "code",
   "execution_count": 37,
   "metadata": {},
   "outputs": [
    {
     "data": {
      "text/plain": [
       "'UBERON:0013702'"
      ]
     },
     "execution_count": 37,
     "metadata": {},
     "output_type": "execute_result"
    }
   ],
   "source": [
    "graph_int_id_to_id[0]"
   ]
  },
  {
   "cell_type": "code",
   "execution_count": 38,
   "metadata": {},
   "outputs": [
    {
     "data": {
      "text/html": [
       "<div>\n",
       "<style scoped>\n",
       "    .dataframe tbody tr th:only-of-type {\n",
       "        vertical-align: middle;\n",
       "    }\n",
       "\n",
       "    .dataframe tbody tr th {\n",
       "        vertical-align: top;\n",
       "    }\n",
       "\n",
       "    .dataframe thead th {\n",
       "        text-align: right;\n",
       "    }\n",
       "</style>\n",
       "<table border=\"1\" class=\"dataframe\">\n",
       "  <thead>\n",
       "    <tr style=\"text-align: right;\">\n",
       "      <th></th>\n",
       "      <th>id</th>\n",
       "      <th>name</th>\n",
       "      <th>type</th>\n",
       "      <th>organ</th>\n",
       "      <th>ontology_id</th>\n",
       "      <th>graph_int_id</th>\n",
       "    </tr>\n",
       "  </thead>\n",
       "  <tbody>\n",
       "    <tr>\n",
       "      <th>0</th>\n",
       "      <td>UBERON:0013702</td>\n",
       "      <td>body</td>\n",
       "      <td>AS</td>\n",
       "      <td>body</td>\n",
       "      <td>UBERON:0013702</td>\n",
       "      <td>0</td>\n",
       "    </tr>\n",
       "  </tbody>\n",
       "</table>\n",
       "</div>"
      ],
      "text/plain": [
       "               id  name type organ     ontology_id  graph_int_id\n",
       "0  UBERON:0013702  body   AS  body  UBERON:0013702             0"
      ]
     },
     "execution_count": 38,
     "metadata": {},
     "output_type": "execute_result"
    }
   ],
   "source": [
    "get_nodes(name='body')"
   ]
  },
  {
   "cell_type": "markdown",
   "metadata": {},
   "source": [
    "# Removal of the blood vasculature nodes from the whole (partonomy) graph\n",
    "We only keep those that are necessary to keep the network connected"
   ]
  },
  {
   "cell_type": "code",
   "execution_count": 39,
   "metadata": {},
   "outputs": [],
   "source": [
    "# remove those blood nodes from the graph, which if we remove, the graph will be still connected, repeat until no such node is found.\n",
    "blood_nodes_candidates = set(nodes[nodes['organ']=='blood_vasculature'].graph_int_id.tolist())\n",
    "\n",
    "distance_from_body = nx.single_source_shortest_path_length(whole_graph_int, source=0)\n",
    "\n",
    "distance_from_body_blood_nodes = {k: v for k, v in distance_from_body.items() if k in blood_nodes_candidates}\n",
    "\n",
    "node_visiting_order = sorted(distance_from_body_blood_nodes.items(), key=lambda x: x[1], reverse=True)\n",
    "\n",
    "new_truncated_graph = whole_graph_int.copy()\n",
    "\n",
    "for node in node_visiting_order:\n",
    "    new_truncated_graph.remove_node(node[0])\n",
    "    if nx.is_connected(new_truncated_graph):\n",
    "        blood_nodes_candidates.remove(node[0])\n",
    "    else:\n",
    "        break\n"
   ]
  },
  {
   "cell_type": "code",
   "execution_count": 40,
   "metadata": {},
   "outputs": [],
   "source": [
    "nodes['keep'] = nodes.apply(lambda row: True if (row['organ']!='blood_vasculature' or row['graph_int_id'] in blood_nodes_candidates) else False, axis=1)"
   ]
  },
  {
   "cell_type": "code",
   "execution_count": 41,
   "metadata": {},
   "outputs": [],
   "source": [
    "truncated_nodes = nodes[nodes['keep']]\n",
    "truncated_edges = edges[edges['source_int'].isin(truncated_nodes['graph_int_id']) | edges['target_int'].isin(truncated_nodes['graph_int_id'])]\n",
    "truncated_graph = nx.from_pandas_edgelist(truncated_edges, source='source_int', target='target_int', edge_attr=True)"
   ]
  },
  {
   "cell_type": "code",
   "execution_count": 42,
   "metadata": {},
   "outputs": [],
   "source": [
    "FTUs = ['UBERON:0001285', 'UBERON:0001229', 'UBERON:0004205', 'UBERON:0001289', 'UBERON:0004193', 'UBERON:0004204', 'UBERON:0001291', 'UBERON:0004203', #kidney\n",
    "        'UBERON:0001983',  'UBERON:0001984',  #large intestine\n",
    "        'UBERON:0004647', #liver\n",
    "        'UBERON:0002299', 'UBERON:8410043', #lung \n",
    "        'UBERON:0000006', 'UBERON:0001263', 'UBERON:0014726', #pancreas\n",
    "        'UBERON:0004179', #prostate gland\n",
    "        'UBERON:0000412', 'UBERON:0013487', 'UBERON:0001992', #skin\n",
    "        'UBERON:0001213', #small intestine\n",
    "        'UBERON:0001250', 'UBERON:0001959', #spleen\n",
    "        'UBERON:0002125' \n",
    "        ]"
   ]
  },
  {
   "cell_type": "code",
   "execution_count": 43,
   "metadata": {},
   "outputs": [],
   "source": [
    "Main_Organs = list(nodes[nodes['ontology_id'].isin(list(nx.neighbors(whole_graph, 'UBERON:0013702')))]['id'])"
   ]
  },
  {
   "cell_type": "code",
   "execution_count": 44,
   "metadata": {},
   "outputs": [],
   "source": [
    "def construct_network_create_vega_viz(nodes_dataframe, edges_dataframe, filename='butterfly', only_female=False, only_male=False, scenegraph=False, show_labels=False):\n",
    "    '''\n",
    "    Construct the network and create the vega visualization file, which is a JSON file. \n",
    "    Vega will visualize the network based on the config file. Using the API we can create the SVG and the \"scenegraph\" which will be used for the coordinates of the nodes.\n",
    "\n",
    "    Parameters:\n",
    "    nodes_dataframe: pd.DataFrame\n",
    "        The dataframe containing the nodes of the network. It should have the following columns: 'id', 'name', 'type', 'organ', 'ontology_id', 'graph_int_id'.\n",
    "    edges_dataframe: pd.DataFrame\n",
    "        The dataframe containing the edges of the network. It should have the following columns: 'source_int', 'target_int', 'organ'.\n",
    "    filename: str\n",
    "        The name of the file to be saved\n",
    "    only_female: bool\n",
    "        If True, the visualization will not contain the prostate (so far that's the only male organ).\n",
    "    only_male: bool\n",
    "        If True, the visualization will not contain the ovaries, fallopian tube, uterus, placenta (so far these are the female organs).\n",
    "    scenegraph: bool\n",
    "        If True, the name of the nodes will be the id of the nodes. This is necessary to later get the coordinates of the nodes based on the IDs.\n",
    "    show_labels: bool\n",
    "        If True, the labels of the nodes will be shown (in the SVG file).\n",
    "    '''\n",
    "\n",
    "    nodes_df = nodes_dataframe.sort_values('graph_int_id').copy() \n",
    "    edges_df = edges_dataframe.sort_values('target_int').copy() #sorting is necessary for the order of the branches in the visualization\n",
    "\n",
    "    # create the graph\n",
    "    graph = nx.from_pandas_edgelist(edges_df, source='source_int', target='target_int', edge_attr=True)\n",
    "\n",
    "    # get the parent of each node for the tree layout\n",
    "    parents_dict = dict(nx.bfs_predecessors(graph, source=0))\n",
    "\n",
    "    nodes_df['parent'] = nodes_df['graph_int_id'].map(parents_dict).fillna(0).astype(int)\n",
    "\n",
    "    # set the color of the nodes based on the type\n",
    "    nodes_df['color'] = nodes_df.apply(lambda row: '#56a04e' if row['ontology_id'] in FTUs else ('#984ea0' if row['type']=='AS' else '#ff7f00'), axis=1)\n",
    "\n",
    "\n",
    "    # vega works with the id column, so we rename the id column to id_from_ontology_id\n",
    "    nodes_df.rename(columns={'id': 'id_from_ontology_id', 'graph_int_id': 'id'}, inplace=True)\n",
    "    \n",
    "\n",
    "    if scenegraph:\n",
    "        # the name has to be the id\n",
    "        nodes_df.rename(columns={'name': 'name_label'}, inplace=True)\n",
    "        nodes_df['name'] = nodes_df['id'].copy()\n",
    "\n",
    "\n",
    "    # if the name is missing, we fill it with an empty string because vega gives an error if it is missing\n",
    "    nodes_df['name'] = nodes_df['name'].fillna('')\n",
    "\n",
    "\n",
    "\n",
    "    # from the female wing we remove the prostate\n",
    "    if only_female and not only_male:\n",
    "        nodes_df = nodes_df[nodes_df['organ']!='prostate']\n",
    "        fn = filename + '_female'\n",
    "\n",
    "    # from the male wing we remove the ovaries, fallopian tube, uterus, placenta\n",
    "    elif only_male and not only_female:\n",
    "        nodes_df = nodes_df[~nodes_df['organ'].isin(['fallopian_tube', 'ovary', 'uterus', 'placenta'])]\n",
    "        fn = filename + '_male'\n",
    "\n",
    "    elif not only_female and not only_male:\n",
    "        fn = filename + '_full'\n",
    "\n",
    "    else:\n",
    "        raise ValueError('The parameters `only_female` and `only_male` cannot be both True at the same time.')\n",
    "\n",
    "    # print(nodes_df['organ'].value_counts())\n",
    "\n",
    "    # create the json file for the nodes\n",
    "    nodes_json = nodes_df[['id', 'name', 'parent', 'type', 'ontology_id', \n",
    "                           'id_from_ontology_id', 'color', 'organ', #'organ_label'\n",
    "                           ]].to_dict(orient='index')\n",
    "\n",
    "    # the body does not have a parent, so we delete its value\n",
    "    del(nodes_json[0]['parent'])\n",
    "\n",
    "    # we need to convert the dictionary to a list, that's how the vega visualization expects it at the config['data'][0]['values']\n",
    "    nodes_json = [nodes_json[i] for i in nodes_json.keys()]\n",
    "    \n",
    "    # load the vega config file\n",
    "    with open(f'{output_path}/vega_config/vega_config.json', encoding='utf8') as json_file:\n",
    "        config = json.load(json_file)\n",
    "\n",
    "    # set the data in the config file\n",
    "    config['data'][0]['values'] = nodes_json\n",
    "    \n",
    "    # show labels if show_labels is True\n",
    "    if show_labels:\n",
    "        config['marks'][-1]['encode']['update']['opacity']['signal'] = config['marks'][-1]['encode']['update']['opacity']['signal'][:-1] + '1' # show the labels, by default they are hidden\n",
    "    \n",
    "    # create the json file and save it\n",
    "    with open(f\"{output_path}/{fn}_vega_viz_config.json\", \"w\") as outfile:\n",
    "        outfile.write(json.dumps(config, indent=4))\n",
    "        print(f'File saved as \"{output_path}/{fn}_vega_viz.json\"')\n",
    "    \n",
    "    return config"
   ]
  },
  {
   "cell_type": "code",
   "execution_count": 45,
   "metadata": {},
   "outputs": [
    {
     "name": "stdout",
     "output_type": "stream",
     "text": [
      "File saved as \"./viz_v2.0/butterfly_full_vega_viz.json\"\n"
     ]
    }
   ],
   "source": [
    "vega_config = construct_network_create_vega_viz(truncated_nodes, truncated_edges, scenegraph=True)"
   ]
  },
  {
   "cell_type": "code",
   "execution_count": 46,
   "metadata": {},
   "outputs": [],
   "source": [
    "def update_vega_config(vega_config_names, filename):\n",
    "    for item in vega_config_names['data'][0]['values']:\n",
    "        if item['ontology_id'] not in FTUs and item['ontology_id'] not in Main_Organs:\n",
    "            item['name'] = ''\n",
    "        \n",
    "    with open(f\"{output_path}/butterfly_names_{filename}_vega_viz_updated.json\", \"w\") as outfile:\n",
    "        outfile.write(json.dumps(vega_config_names, indent=4))\n",
    "        print(f'File saved as \"{output_path}/butterfly_names_{filename}_vega_viz_updated.json\"')\n",
    "\n",
    "    return vega_config_names"
   ]
  },
  {
   "cell_type": "code",
   "execution_count": 47,
   "metadata": {},
   "outputs": [
    {
     "name": "stdout",
     "output_type": "stream",
     "text": [
      "File saved as \"./viz_v2.0/butterfly_ids_female_vega_viz.json\"\n",
      "File saved as \"./viz_v2.0/butterfly_female_vega_viz.json\"\n"
     ]
    }
   ],
   "source": [
    "vega_config_female_with_ids = construct_network_create_vega_viz(truncated_nodes, truncated_edges, only_female=True, scenegraph=True, show_labels=True, filename='butterfly_ids') #id shown - this is used for the coordinates \n",
    "vega_config_female = construct_network_create_vega_viz(truncated_nodes, truncated_edges, only_female=True, scenegraph=True, show_labels=False) #no name or id shown, based on id (scenegraph) - this is used for the viz"
   ]
  },
  {
   "cell_type": "code",
   "execution_count": 48,
   "metadata": {},
   "outputs": [
    {
     "name": "stdout",
     "output_type": "stream",
     "text": [
      "File saved as \"./viz_v2.0/butterfly_ids_male_vega_viz.json\"\n",
      "File saved as \"./viz_v2.0/butterfly_male_vega_viz.json\"\n"
     ]
    }
   ],
   "source": [
    "vega_config_male_with_ids = construct_network_create_vega_viz(truncated_nodes, truncated_edges, only_male=True, scenegraph=True, show_labels=True, filename='butterfly_ids')\n",
    "vega_config_male = construct_network_create_vega_viz(truncated_nodes, truncated_edges, only_male=True, scenegraph=True)"
   ]
  },
  {
   "cell_type": "code",
   "execution_count": 49,
   "metadata": {},
   "outputs": [
    {
     "name": "stdout",
     "output_type": "stream",
     "text": [
      "File saved as \"./viz_v2.0/butterfly_names_female_vega_viz.json\"\n",
      "File saved as \"./viz_v2.0/butterfly_names_female_vega_viz_updated.json\"\n",
      "File saved as \"./viz_v2.0/butterfly_names_male_vega_viz.json\"\n",
      "File saved as \"./viz_v2.0/butterfly_names_male_vega_viz_updated.json\"\n"
     ]
    }
   ],
   "source": [
    "vega_config_female_with_names = construct_network_create_vega_viz(truncated_nodes, truncated_edges, only_female=True, scenegraph=False, show_labels=True, filename='butterfly_names') \n",
    "vega_config_female_with_names = update_vega_config(vega_config_female_with_names, 'female')\n",
    "\n",
    "vega_config_male_with_names = construct_network_create_vega_viz(truncated_nodes, truncated_edges, only_male=True, scenegraph=False, show_labels=True, filename='butterfly_names') \n",
    "vega_config_male_with_names = update_vega_config(vega_config_male_with_names, 'male')"
   ]
  },
  {
   "cell_type": "code",
   "execution_count": 50,
   "metadata": {},
   "outputs": [],
   "source": [
    "def create_vega_viz(config, filename, scenegraph=False):\n",
    "    '''\n",
    "    Create the visualization based on the vega config file. The visualization can be saved as SVG or as a scenegraph JSON file.\n",
    "\n",
    "    Parameters:\n",
    "    config: dict\n",
    "        The vega config file.\n",
    "    filename: str\n",
    "        The name of the file to be saved.\n",
    "    scenegraph: bool\n",
    "        If True, the scenegraph JSON file will be saved, otherwise the SVG file will be saved.\n",
    "    '''\n",
    "\n",
    "    if scenegraph:\n",
    "        scenegraph_data = vlc.vega_to_scenegraph(vg_spec=config)\n",
    "\n",
    "        with open(f\"{output_path}/vega_{filename}_scenegraph.json\", \"w\") as outfile:\n",
    "            outfile.write(json.dumps(scenegraph_data, indent=4))\n",
    "\n",
    "        return scenegraph_data\n",
    "    \n",
    "    else:\n",
    "        svg_str = vlc.vega_to_svg(vg_spec=config,)\n",
    "\n",
    "        with open(f\"{output_path}/vega_{filename}_viz.svg\", \"wt\") as f:\n",
    "            f.write(svg_str)\n",
    "\n",
    "        return svg_str"
   ]
  },
  {
   "cell_type": "code",
   "execution_count": 51,
   "metadata": {},
   "outputs": [
    {
     "name": "stdout",
     "output_type": "stream",
     "text": [
      "CPU times: user 1.35 s, sys: 85.7 ms, total: 1.44 s\n",
      "Wall time: 1.18 s\n"
     ]
    }
   ],
   "source": [
    "%%time\n",
    "female_svg_names = create_vega_viz(vega_config_female_with_names, 'female_name', scenegraph=False)"
   ]
  },
  {
   "cell_type": "code",
   "execution_count": 52,
   "metadata": {},
   "outputs": [
    {
     "name": "stdout",
     "output_type": "stream",
     "text": [
      "CPU times: user 491 ms, sys: 5.65 ms, total: 497 ms\n",
      "Wall time: 374 ms\n"
     ]
    }
   ],
   "source": [
    "%%time\n",
    "male_svg_names = create_vega_viz(vega_config_male_with_names, 'male_name', scenegraph=False)"
   ]
  },
  {
   "cell_type": "code",
   "execution_count": 53,
   "metadata": {},
   "outputs": [],
   "source": [
    "scenegraph_female = create_vega_viz(vega_config_female_with_ids, 'female_id', scenegraph=True)\n",
    "scenegraph_male = create_vega_viz(vega_config_male_with_ids, 'male_id', scenegraph=True)"
   ]
  },
  {
   "cell_type": "code",
   "execution_count": 54,
   "metadata": {},
   "outputs": [],
   "source": [
    "def get_node_coordinates(scenegraph):\n",
    "    return {item['text']: (item['x'], item['y']) for item in scenegraph['scenegraph']['items'][0]['items'][2]['items']}"
   ]
  },
  {
   "cell_type": "code",
   "execution_count": 55,
   "metadata": {},
   "outputs": [],
   "source": [
    "coordinates_of_nodes_fem = get_node_coordinates(scenegraph_female)\n",
    "coordinates_of_nodes_mal = get_node_coordinates(scenegraph_male)"
   ]
  },
  {
   "cell_type": "markdown",
   "metadata": {},
   "source": [
    "# Vasculature "
   ]
  },
  {
   "cell_type": "code",
   "execution_count": 56,
   "metadata": {},
   "outputs": [
    {
     "name": "stderr",
     "output_type": "stream",
     "text": [
      "/tmp/ipykernel_129783/467229484.py:7: SettingWithCopyWarning: \n",
      "A value is trying to be set on a copy of a slice from a DataFrame.\n",
      "Try using .loc[row_indexer,col_indexer] = value instead\n",
      "\n",
      "See the caveats in the documentation: https://pandas.pydata.org/pandas-docs/stable/user_guide/indexing.html#returning-a-view-versus-a-copy\n",
      "  blood_nodes['graph_int_id'] = blood_nodes['id'].map(id_to_graph_int_id)\n"
     ]
    }
   ],
   "source": [
    "blood_edges = pd.read_csv(blood_edges_url)\n",
    "\n",
    "blood_graph = nx.from_pandas_edgelist(blood_edges, source='source', target='target', edge_attr=True,)# create_using=nx.DiGraph)\n",
    "\n",
    "blood_nodes = nodes[nodes['id'].isin(blood_graph.nodes)]\n",
    "\n",
    "blood_nodes['graph_int_id'] = blood_nodes['id'].map(id_to_graph_int_id)\n",
    "\n",
    "blood_edges['source_int'] = blood_edges['source'].map(id_to_graph_int_id)\n",
    "blood_edges['target_int'] = blood_edges['target'].map(id_to_graph_int_id)"
   ]
  },
  {
   "cell_type": "code",
   "execution_count": 57,
   "metadata": {},
   "outputs": [],
   "source": [
    "#edges in blood_graph that are not in whole graph:\n",
    "new_edges = []\n",
    "for edge in blood_graph.edges:\n",
    "    if not whole_graph.has_edge(*edge):\n",
    "        new_edges.append(edge)"
   ]
  },
  {
   "cell_type": "code",
   "execution_count": 58,
   "metadata": {},
   "outputs": [
    {
     "data": {
      "text/plain": [
       "324"
      ]
     },
     "execution_count": 58,
     "metadata": {},
     "output_type": "execute_result"
    }
   ],
   "source": [
    "len(new_edges)"
   ]
  },
  {
   "cell_type": "code",
   "execution_count": 59,
   "metadata": {},
   "outputs": [],
   "source": [
    "blood_graph_int = nx.from_pandas_edgelist(blood_edges, source='source_int', target='target_int', edge_attr=True)"
   ]
  },
  {
   "cell_type": "code",
   "execution_count": 60,
   "metadata": {},
   "outputs": [],
   "source": [
    "id_of_heart = blood_nodes[blood_nodes['name']=='heart']['graph_int_id'].values[0]"
   ]
  },
  {
   "cell_type": "code",
   "execution_count": 61,
   "metadata": {},
   "outputs": [
    {
     "data": {
      "text/plain": [
       "262"
      ]
     },
     "execution_count": 61,
     "metadata": {},
     "output_type": "execute_result"
    }
   ],
   "source": [
    "id_of_heart"
   ]
  },
  {
   "cell_type": "code",
   "execution_count": 62,
   "metadata": {},
   "outputs": [
    {
     "data": {
      "text/html": [
       "<div>\n",
       "<style scoped>\n",
       "    .dataframe tbody tr th:only-of-type {\n",
       "        vertical-align: middle;\n",
       "    }\n",
       "\n",
       "    .dataframe tbody tr th {\n",
       "        vertical-align: top;\n",
       "    }\n",
       "\n",
       "    .dataframe thead th {\n",
       "        text-align: right;\n",
       "    }\n",
       "</style>\n",
       "<table border=\"1\" class=\"dataframe\">\n",
       "  <thead>\n",
       "    <tr style=\"text-align: right;\">\n",
       "      <th></th>\n",
       "      <th>id</th>\n",
       "      <th>name</th>\n",
       "      <th>type</th>\n",
       "      <th>organ</th>\n",
       "      <th>ontology_id</th>\n",
       "      <th>graph_int_id</th>\n",
       "      <th>keep</th>\n",
       "    </tr>\n",
       "  </thead>\n",
       "  <tbody>\n",
       "    <tr>\n",
       "      <th>2</th>\n",
       "      <td>UBERON:0002079</td>\n",
       "      <td>left cardiac atrium</td>\n",
       "      <td>AS</td>\n",
       "      <td>blood_vasculature</td>\n",
       "      <td>UBERON:0002079</td>\n",
       "      <td>263</td>\n",
       "      <td>True</td>\n",
       "    </tr>\n",
       "    <tr>\n",
       "      <th>37</th>\n",
       "      <td>UBERON:0002084</td>\n",
       "      <td>heart left ventricle</td>\n",
       "      <td>AS</td>\n",
       "      <td>blood_vasculature</td>\n",
       "      <td>UBERON:0002084</td>\n",
       "      <td>336</td>\n",
       "      <td>True</td>\n",
       "    </tr>\n",
       "    <tr>\n",
       "      <th>3236</th>\n",
       "      <td>UBERON:0002078</td>\n",
       "      <td>right cardiac atrium</td>\n",
       "      <td>AS</td>\n",
       "      <td>blood_vasculature</td>\n",
       "      <td>UBERON:0002078</td>\n",
       "      <td>3582</td>\n",
       "      <td>True</td>\n",
       "    </tr>\n",
       "    <tr>\n",
       "      <th>4354</th>\n",
       "      <td>UBERON:0002080</td>\n",
       "      <td>heart right ventricle</td>\n",
       "      <td>AS</td>\n",
       "      <td>blood_vasculature</td>\n",
       "      <td>UBERON:0002080</td>\n",
       "      <td>4738</td>\n",
       "      <td>True</td>\n",
       "    </tr>\n",
       "  </tbody>\n",
       "</table>\n",
       "</div>"
      ],
      "text/plain": [
       "                  id                   name type              organ   \n",
       "2     UBERON:0002079    left cardiac atrium   AS  blood_vasculature  \\\n",
       "37    UBERON:0002084   heart left ventricle   AS  blood_vasculature   \n",
       "3236  UBERON:0002078   right cardiac atrium   AS  blood_vasculature   \n",
       "4354  UBERON:0002080  heart right ventricle   AS  blood_vasculature   \n",
       "\n",
       "         ontology_id  graph_int_id  keep  \n",
       "2     UBERON:0002079           263  True  \n",
       "37    UBERON:0002084           336  True  \n",
       "3236  UBERON:0002078          3582  True  \n",
       "4354  UBERON:0002080          4738  True  "
      ]
     },
     "execution_count": 62,
     "metadata": {},
     "output_type": "execute_result"
    }
   ],
   "source": [
    "blood_nodes[blood_nodes['graph_int_id'].isin(list(nx.neighbors(blood_graph_int, id_of_heart)))]"
   ]
  },
  {
   "cell_type": "code",
   "execution_count": 63,
   "metadata": {},
   "outputs": [],
   "source": [
    "components = blood_graph_int.copy()\n",
    "components.remove_node(id_of_heart)\n",
    "components = list(nx.connected_components(components))"
   ]
  },
  {
   "cell_type": "code",
   "execution_count": 64,
   "metadata": {},
   "outputs": [
    {
     "data": {
      "text/plain": [
       "4"
      ]
     },
     "execution_count": 64,
     "metadata": {},
     "output_type": "execute_result"
    }
   ],
   "source": [
    "len(components)"
   ]
  },
  {
   "cell_type": "code",
   "execution_count": 65,
   "metadata": {},
   "outputs": [],
   "source": [
    "components += [set([id_of_heart])]"
   ]
  },
  {
   "cell_type": "code",
   "execution_count": 66,
   "metadata": {},
   "outputs": [],
   "source": [
    "id_of_left_ventricle_and_left_atrium = blood_nodes[blood_nodes['name'].apply(lambda x: 'left cardiac atrium' in str(x).lower() or 'left ventricle' in str(x).lower())]['graph_int_id'].tolist()\n",
    "\n",
    "id_of_right_ventricle_and_right_atrium = blood_nodes[blood_nodes['name'].apply(lambda x: 'right cardiac atrium' in str(x).lower() or 'right ventricle' in str(x).lower())]['graph_int_id'].tolist()"
   ]
  },
  {
   "cell_type": "code",
   "execution_count": 67,
   "metadata": {},
   "outputs": [
    {
     "data": {
      "text/plain": [
       "[263, 336]"
      ]
     },
     "execution_count": 67,
     "metadata": {},
     "output_type": "execute_result"
    }
   ],
   "source": [
    "id_of_left_ventricle_and_left_atrium"
   ]
  },
  {
   "cell_type": "code",
   "execution_count": 68,
   "metadata": {},
   "outputs": [
    {
     "data": {
      "text/plain": [
       "[3582, 4738]"
      ]
     },
     "execution_count": 68,
     "metadata": {},
     "output_type": "execute_result"
    }
   ],
   "source": [
    "id_of_right_ventricle_and_right_atrium"
   ]
  },
  {
   "cell_type": "code",
   "execution_count": 69,
   "metadata": {},
   "outputs": [
    {
     "name": "stderr",
     "output_type": "stream",
     "text": [
      "/tmp/ipykernel_129783/1156918371.py:1: SettingWithCopyWarning: \n",
      "A value is trying to be set on a copy of a slice from a DataFrame.\n",
      "Try using .loc[row_indexer,col_indexer] = value instead\n",
      "\n",
      "See the caveats in the documentation: https://pandas.pydata.org/pandas-docs/stable/user_guide/indexing.html#returning-a-view-versus-a-copy\n",
      "  blood_nodes['artery/vein'] = blood_nodes['graph_int_id'].apply(lambda x: 'artery' if set(id_of_left_ventricle_and_left_atrium+[id_of_heart]).intersection(set([comp for comp in components if x in comp][0])) else 'vein')\n"
     ]
    }
   ],
   "source": [
    "blood_nodes['artery/vein'] = blood_nodes['graph_int_id'].apply(lambda x: 'artery' if set(id_of_left_ventricle_and_left_atrium+[id_of_heart]).intersection(set([comp for comp in components if x in comp][0])) else 'vein')"
   ]
  },
  {
   "cell_type": "code",
   "execution_count": 70,
   "metadata": {},
   "outputs": [
    {
     "data": {
      "text/plain": [
       "artery/vein\n",
       "artery    3322\n",
       "vein      1326\n",
       "Name: count, dtype: int64"
      ]
     },
     "execution_count": 70,
     "metadata": {},
     "output_type": "execute_result"
    }
   ],
   "source": [
    "blood_nodes['artery/vein'].value_counts(dropna=False)"
   ]
  },
  {
   "cell_type": "code",
   "execution_count": 71,
   "metadata": {},
   "outputs": [
    {
     "data": {
      "text/html": [
       "<div>\n",
       "<style scoped>\n",
       "    .dataframe tbody tr th:only-of-type {\n",
       "        vertical-align: middle;\n",
       "    }\n",
       "\n",
       "    .dataframe tbody tr th {\n",
       "        vertical-align: top;\n",
       "    }\n",
       "\n",
       "    .dataframe thead th {\n",
       "        text-align: right;\n",
       "    }\n",
       "</style>\n",
       "<table border=\"1\" class=\"dataframe\">\n",
       "  <thead>\n",
       "    <tr style=\"text-align: right;\">\n",
       "      <th></th>\n",
       "      <th>id</th>\n",
       "      <th>name</th>\n",
       "      <th>type</th>\n",
       "      <th>organ</th>\n",
       "      <th>ontology_id</th>\n",
       "      <th>graph_int_id</th>\n",
       "      <th>keep</th>\n",
       "      <th>artery/vein</th>\n",
       "    </tr>\n",
       "  </thead>\n",
       "  <tbody>\n",
       "    <tr>\n",
       "      <th>1</th>\n",
       "      <td>UBERON:0000948</td>\n",
       "      <td>heart</td>\n",
       "      <td>AS</td>\n",
       "      <td>blood_vasculature</td>\n",
       "      <td>UBERON:0000948</td>\n",
       "      <td>262</td>\n",
       "      <td>True</td>\n",
       "      <td>artery</td>\n",
       "    </tr>\n",
       "    <tr>\n",
       "      <th>2</th>\n",
       "      <td>UBERON:0002079</td>\n",
       "      <td>left cardiac atrium</td>\n",
       "      <td>AS</td>\n",
       "      <td>blood_vasculature</td>\n",
       "      <td>UBERON:0002079</td>\n",
       "      <td>263</td>\n",
       "      <td>True</td>\n",
       "      <td>artery</td>\n",
       "    </tr>\n",
       "    <tr>\n",
       "      <th>3</th>\n",
       "      <td>CL:0010008</td>\n",
       "      <td>cardiac endothelial cell</td>\n",
       "      <td>CT</td>\n",
       "      <td>blood_vasculature</td>\n",
       "      <td>CL:0010008</td>\n",
       "      <td>264</td>\n",
       "      <td>True</td>\n",
       "      <td>artery</td>\n",
       "    </tr>\n",
       "    <tr>\n",
       "      <th>4</th>\n",
       "      <td>FMA:49913</td>\n",
       "      <td>Left inferior pulmonary vein</td>\n",
       "      <td>AS</td>\n",
       "      <td>blood_vasculature</td>\n",
       "      <td>FMA:49913</td>\n",
       "      <td>265</td>\n",
       "      <td>True</td>\n",
       "      <td>artery</td>\n",
       "    </tr>\n",
       "    <tr>\n",
       "      <th>5</th>\n",
       "      <td>CL:0000071</td>\n",
       "      <td>blood vessel endothelial cell</td>\n",
       "      <td>CT</td>\n",
       "      <td>blood_vasculature</td>\n",
       "      <td>CL:0000071</td>\n",
       "      <td>266</td>\n",
       "      <td>True</td>\n",
       "      <td>artery</td>\n",
       "    </tr>\n",
       "    <tr>\n",
       "      <th>...</th>\n",
       "      <td>...</td>\n",
       "      <td>...</td>\n",
       "      <td>...</td>\n",
       "      <td>...</td>\n",
       "      <td>...</td>\n",
       "      <td>...</td>\n",
       "      <td>...</td>\n",
       "      <td>...</td>\n",
       "    </tr>\n",
       "    <tr>\n",
       "      <th>11303</th>\n",
       "      <td>UBERON:0015173$$8124</td>\n",
       "      <td>arcuate artery of uterus</td>\n",
       "      <td>AS</td>\n",
       "      <td>uterus</td>\n",
       "      <td>UBERON:0015173</td>\n",
       "      <td>11358</td>\n",
       "      <td>True</td>\n",
       "      <td>artery</td>\n",
       "    </tr>\n",
       "    <tr>\n",
       "      <th>11306</th>\n",
       "      <td>UBERON:0015173$$8126</td>\n",
       "      <td>arcuate artery of uterus</td>\n",
       "      <td>AS</td>\n",
       "      <td>uterus</td>\n",
       "      <td>UBERON:0015173</td>\n",
       "      <td>11581</td>\n",
       "      <td>True</td>\n",
       "      <td>artery</td>\n",
       "    </tr>\n",
       "    <tr>\n",
       "      <th>11309</th>\n",
       "      <td>UBERON:0015173$$8128</td>\n",
       "      <td>arcuate artery of uterus</td>\n",
       "      <td>AS</td>\n",
       "      <td>uterus</td>\n",
       "      <td>UBERON:0015173</td>\n",
       "      <td>11172</td>\n",
       "      <td>True</td>\n",
       "      <td>artery</td>\n",
       "    </tr>\n",
       "    <tr>\n",
       "      <th>11312</th>\n",
       "      <td>UBERON:0015173$$8130</td>\n",
       "      <td>arcuate artery of uterus</td>\n",
       "      <td>AS</td>\n",
       "      <td>uterus</td>\n",
       "      <td>UBERON:0015173</td>\n",
       "      <td>11395</td>\n",
       "      <td>True</td>\n",
       "      <td>artery</td>\n",
       "    </tr>\n",
       "    <tr>\n",
       "      <th>11315</th>\n",
       "      <td>UBERON:0015173$$8132</td>\n",
       "      <td>arcuate artery of uterus</td>\n",
       "      <td>AS</td>\n",
       "      <td>uterus</td>\n",
       "      <td>UBERON:0015173</td>\n",
       "      <td>11618</td>\n",
       "      <td>True</td>\n",
       "      <td>artery</td>\n",
       "    </tr>\n",
       "  </tbody>\n",
       "</table>\n",
       "<p>4648 rows × 8 columns</p>\n",
       "</div>"
      ],
      "text/plain": [
       "                         id                           name type   \n",
       "1            UBERON:0000948                          heart   AS  \\\n",
       "2            UBERON:0002079            left cardiac atrium   AS   \n",
       "3                CL:0010008       cardiac endothelial cell   CT   \n",
       "4                 FMA:49913   Left inferior pulmonary vein   AS   \n",
       "5                CL:0000071  blood vessel endothelial cell   CT   \n",
       "...                     ...                            ...  ...   \n",
       "11303  UBERON:0015173$$8124       arcuate artery of uterus   AS   \n",
       "11306  UBERON:0015173$$8126       arcuate artery of uterus   AS   \n",
       "11309  UBERON:0015173$$8128       arcuate artery of uterus   AS   \n",
       "11312  UBERON:0015173$$8130       arcuate artery of uterus   AS   \n",
       "11315  UBERON:0015173$$8132       arcuate artery of uterus   AS   \n",
       "\n",
       "                   organ     ontology_id  graph_int_id  keep artery/vein  \n",
       "1      blood_vasculature  UBERON:0000948           262  True      artery  \n",
       "2      blood_vasculature  UBERON:0002079           263  True      artery  \n",
       "3      blood_vasculature      CL:0010008           264  True      artery  \n",
       "4      blood_vasculature       FMA:49913           265  True      artery  \n",
       "5      blood_vasculature      CL:0000071           266  True      artery  \n",
       "...                  ...             ...           ...   ...         ...  \n",
       "11303             uterus  UBERON:0015173         11358  True      artery  \n",
       "11306             uterus  UBERON:0015173         11581  True      artery  \n",
       "11309             uterus  UBERON:0015173         11172  True      artery  \n",
       "11312             uterus  UBERON:0015173         11395  True      artery  \n",
       "11315             uterus  UBERON:0015173         11618  True      artery  \n",
       "\n",
       "[4648 rows x 8 columns]"
      ]
     },
     "execution_count": 71,
     "metadata": {},
     "output_type": "execute_result"
    }
   ],
   "source": [
    "blood_nodes"
   ]
  },
  {
   "cell_type": "code",
   "execution_count": 72,
   "metadata": {},
   "outputs": [],
   "source": [
    "# those nodes whose ontology id is in both blood and whole graph but not in 'blood_vasculature' organ\n",
    "nodes_except_blood = nodes[nodes['organ']!='blood_vasculature']\n",
    "# matching nodes between blood vasculature and other organs\n",
    "matching_nodes = nodes_except_blood[nodes_except_blood['id'].isin(blood_nodes['id'])]"
   ]
  },
  {
   "cell_type": "code",
   "execution_count": 73,
   "metadata": {},
   "outputs": [],
   "source": [
    "def get_coordinates_for_blood_nodes(coordinates_of_nodes, only_female=False, only_male=False, bundle_edges=False):\n",
    "    '''\n",
    "    Get the coordinates of the blood nodes based on the coordinates of the partonomy graph nodes.\n",
    "\n",
    "    Parameters:\n",
    "    coordinates_of_nodes: dict\n",
    "        The dictionary containing the coordinates of the nodes.\n",
    "    only_female: bool\n",
    "        If True, the visualization will not contain the prostate (so far that's the only male organ).\n",
    "    only_male: bool\n",
    "        If True, the visualization will not contain the ovaries, fallopian tube, uterus, placenta.\n",
    "    bundle_edges: bool\n",
    "        If True, the edges will be bundled (for the final viz, this is used).\n",
    "\n",
    "    '''\n",
    "\n",
    "    if only_female and not only_male:\n",
    "        matching_nodes_filtered = matching_nodes[matching_nodes['organ']!='prostate'].copy()\n",
    "        filename='female'\n",
    "\n",
    "    elif only_male and not only_female:\n",
    "        matching_nodes_filtered = matching_nodes[~matching_nodes['organ'].isin(['fallopian_tube', 'ovary', 'uterus', 'placenta'])].copy()\n",
    "        filename='male'\n",
    "\n",
    "    else:\n",
    "        raise ValueError('Set either only_female or only_male parameters True')\n",
    "    \n",
    "    \n",
    "    #Get the pruned blood graph\n",
    "\n",
    "    parents = set(matching_nodes_filtered['graph_int_id'].tolist())\n",
    "\n",
    "    # get the parent of each node for the tree layout\n",
    "    blood_parents_dict = dict(nx.bfs_predecessors(blood_graph_int, source=262))\n",
    "\n",
    "    pruned_blood_nodes = parents.copy()\n",
    "\n",
    "    while len(parents)>0:\n",
    "        parents = set([blood_parents_dict[node] for node in parents if node in blood_parents_dict]) - pruned_blood_nodes\n",
    "\n",
    "        pruned_blood_nodes = pruned_blood_nodes.union(parents)\n",
    "\n",
    "\n",
    "    \n",
    "    pruned_blood_nodes = blood_nodes[blood_nodes['graph_int_id'].isin(pruned_blood_nodes)]\n",
    "\n",
    "    pruned_blood_graph = nx.induced_subgraph(blood_graph_int, pruned_blood_nodes['graph_int_id'].tolist())\n",
    "\n",
    "    veins = blood_nodes[blood_nodes['artery/vein']=='vein']['graph_int_id'].tolist()\n",
    "    arteries = blood_nodes[blood_nodes['artery/vein']=='artery']['graph_int_id'].tolist()\n",
    "\n",
    "    graphs = {'veins': nx.induced_subgraph(pruned_blood_graph, veins+[id_of_heart]), 'arteries': nx.induced_subgraph(pruned_blood_graph, arteries)}\n",
    "\n",
    "\n",
    "    # get the coordinates of the nodes\n",
    "    pruned_blood_nodes['coordinates'] = pruned_blood_nodes['graph_int_id'].apply(lambda x: coordinates_of_nodes[x] if x in coordinates_of_nodes else np.nan)\n",
    "\n",
    "    pruned_blood_nodes = pruned_blood_nodes.dropna(subset=['coordinates'])\n",
    "\n",
    "    pruned_blood_nodes.set_index('graph_int_id', inplace=True)\n",
    "\n",
    "    coordinates = {'veins': pruned_blood_nodes[(pruned_blood_nodes['artery/vein']=='vein')|(pruned_blood_nodes['name']=='heart')]['coordinates'].to_dict(), \n",
    "                   'arteries': pruned_blood_nodes[pruned_blood_nodes['artery/vein']=='artery']['coordinates'].to_dict()}\n",
    "\n",
    "    fixed_nodes = {'veins': pruned_blood_nodes[(pruned_blood_nodes['artery/vein']=='vein')|(pruned_blood_nodes['name']=='heart')].index.tolist(), \n",
    "                   'arteries': pruned_blood_nodes[pruned_blood_nodes['artery/vein']=='artery'].index.tolist()}\n",
    "\n",
    "    pos = {}\n",
    "\n",
    "    pos['veins'] = nx.spring_layout(graphs['veins'], pos=coordinates['veins'], fixed=fixed_nodes['veins'], seed=42, iterations=1000, dim=2, k=0.01/np.sqrt(len(graphs['veins'])))\n",
    "    pos['arteries'] = nx.spring_layout(graphs['arteries'], pos=coordinates['arteries'], fixed=fixed_nodes['arteries'], seed=42, iterations=1000, dim=2, k=0.01/np.sqrt(len(graphs['arteries'])))\n",
    "\n",
    "\n",
    "    # return graphs, pos, fixed_nodes\n",
    "\n",
    "    if not bundle_edges:\n",
    "        plt.figure(figsize=(canvas_size/100,canvas_size/100))\n",
    "        plt.axes().set_aspect('equal')\n",
    "        plt.margins(x=0, y=0)\n",
    "        plt.xlim(0,canvas_size)\n",
    "        plt.ylim(0, canvas_size)\n",
    "        plt.subplots_adjust(left=0, right=1, top=1, bottom=0, hspace=0, wspace=0)\n",
    "        plt.tight_layout(pad=0, h_pad=0, w_pad=0, rect=(0,0,1,1))\n",
    "        plt.axis('off') \n",
    "\n",
    "        nx.draw(graphs['arteries'], pos=pos['arteries'], node_size=10, edge_color='tab:red', node_color='tab:red')\n",
    "        nx.draw(graphs['veins'], pos=pos['veins'], node_size=10, edge_color='tab:blue', node_color='tab:blue')\n",
    "        nx.draw_networkx_nodes(graphs['arteries'], pos=pos['arteries'], nodelist=[id_of_heart], node_size=40, node_color='tab:red', node_shape='p')\n",
    "\n",
    "        plt.subplots_adjust(left=0, right=1, top=1, bottom=0)\n",
    "        plt.tight_layout(pad=0, h_pad=0, w_pad=0, rect=(0,0,1,1))\n",
    "        plt.axis('off')\n",
    "        plt.gca().set_axis_off()\n",
    "        plt.subplots_adjust(top = 1, bottom = 0, right = 1, left = 0, hspace = 0, wspace = 0)\n",
    "        plt.margins(0,0)\n",
    "        plt.gca().xaxis.set_major_locator(plt.NullLocator())\n",
    "        plt.gca().yaxis.set_major_locator(plt.NullLocator())\n",
    "        plt.savefig(f'{output_path}/blood_viz_{filename}.pdf',  transparent=True, pad_inches=0.0, bbox_inches=0)\n",
    "        print(f'Fig saved as \"{output_path}/blood_viz_{filename}.pdf\"')\n",
    "        plt.show()\n",
    "\n",
    "    else:\n",
    "        # nodes_only = {'veins': pd.DataFrame.from_dict(relabel_mapping_inv['veins'], orient='index').rename(columns={0:'name'}), \n",
    "        #     'arteries': pd.DataFrame.from_dict(relabel_mapping_inv['arteries'], orient='index').rename(columns={0:'name'})}\n",
    "        \n",
    "        # nodes = {'veins': pd.DataFrame.from_dict(pos2['veins']).T.rename(columns={0:'x', 1:'y'}).join(nodes_only['veins'])[['name', 'x', 'y']], \n",
    "        #          'arteries': pd.DataFrame.from_dict(pos2['arteries']).T.rename(columns={0:'x', 1:'y'}).join(nodes_only['arteries'])[['name', 'x', 'y']]}\n",
    "        \n",
    "        # edges = {'veins': nx.to_pandas_edgelist(renamed_comp['veins'])[['source', 'target']], \n",
    "        #          'arteries': nx.to_pandas_edgelist(renamed_comp['arteries'])[['source', 'target']]}\n",
    "        # hb = hammer_bundle(nodes, edges, initial_bandwidth=0.03,tension=0.9, accuracy=8000)\n",
    "        edges = {'veins': nx.to_pandas_edgelist(graphs['veins'], source='source_int', target='target_int')[['source_int', 'target_int']].rename(columns={'source_int': 'source', 'target_int': 'target'}),\n",
    "                 'arteries': nx.to_pandas_edgelist(graphs['arteries'],  source='source_int', target='target_int')[['source_int', 'target_int']].rename(columns={'source_int': 'source', 'target_int': 'target'}),\n",
    "                 }\n",
    "        nodes = {'veins': pd.DataFrame.from_dict(pos['veins']).T.rename(columns={0:'x', 1:'y'}),#.reset_index(names=['name']),#.join(pruned_blood_nodes[['name', 'artery/vein']]), \n",
    "                 'arteries': pd.DataFrame.from_dict(pos['arteries']).T.rename(columns={0:'x', 1:'y'})#.join(pruned_blood_nodes[['name', 'artery/vein']])\n",
    "                 }\n",
    "        \n",
    "        \n",
    "        hb = {'veins': hammer_bundle(nodes['veins'], edges['veins'], initial_bandwidth=.015, decay=0.8, tension=0.99, accuracy=1000), \n",
    "              'arteries': hammer_bundle(nodes['arteries'], edges['arteries'], initial_bandwidth=.015, decay=0.8, tension=0.99, accuracy=1000)}\n",
    "        \n",
    "        plt.figure(figsize=(canvas_size/100, canvas_size/100))\n",
    "        plt.axes().set_aspect('equal')\n",
    "        plt.margins(x=0, y=0)\n",
    "        plt.xlim(0,canvas_size)\n",
    "        plt.ylim(-canvas_size, 0)\n",
    "        plt.subplots_adjust(left=0, right=1, top=1, bottom=0, hspace=0, wspace=0)\n",
    "        plt.tight_layout(pad=0, h_pad=0, w_pad=0, rect=(0,0,1,1))\n",
    "        plt.axis('off')\n",
    "\n",
    "        plt.plot(hb['veins']['x'], -hb['veins']['y'], color='tab:blue', alpha=0.8)\n",
    "        plt.plot(hb['arteries']['x'], -hb['arteries']['y'], color='tab:red', alpha=0.8)\n",
    "\n",
    "        plt.subplots_adjust(left=0, right=1, top=1, bottom=0)\n",
    "        plt.tight_layout(pad=0, h_pad=0, w_pad=0, rect=(0,0,1,1))\n",
    "        plt.axis('off')\n",
    "        plt.gca().set_axis_off()\n",
    "        plt.subplots_adjust(top = 1, bottom = 0, right = 1, left = 0, hspace = 0, wspace = 0)\n",
    "        plt.margins(0,0)\n",
    "        plt.gca().xaxis.set_major_locator(plt.NullLocator())\n",
    "        plt.gca().yaxis.set_major_locator(plt.NullLocator())\n",
    "        \n",
    "        plt.savefig(f'{output_path}/blood_viz_{filename}_bundled.svg', pad_inches=0.0, transparent=True, bbox_inches=0)\n",
    "        print(f'Fig saved as \"{output_path}/blood_viz_{filename}_bundled.svg\"')\n",
    "        plt.show()\n",
    "    \n",
    "        # return hb"
   ]
  },
  {
   "cell_type": "code",
   "execution_count": 74,
   "metadata": {},
   "outputs": [
    {
     "name": "stderr",
     "output_type": "stream",
     "text": [
      "/tmp/ipykernel_129783/891491612.py:56: SettingWithCopyWarning: \n",
      "A value is trying to be set on a copy of a slice from a DataFrame.\n",
      "Try using .loc[row_indexer,col_indexer] = value instead\n",
      "\n",
      "See the caveats in the documentation: https://pandas.pydata.org/pandas-docs/stable/user_guide/indexing.html#returning-a-view-versus-a-copy\n",
      "  pruned_blood_nodes['coordinates'] = pruned_blood_nodes['graph_int_id'].apply(lambda x: coordinates_of_nodes[x] if x in coordinates_of_nodes else np.nan)\n"
     ]
    },
    {
     "name": "stdout",
     "output_type": "stream",
     "text": [
      "Fig saved as \"./viz_v2.0/blood_viz_female_bundled.svg\"\n"
     ]
    },
    {
     "data": {
      "image/png": "[encoded data removed]",
      "text/plain": [
       "<Figure size 1720x1720 with 1 Axes>"
      ]
     },
     "metadata": {},
     "output_type": "display_data"
    }
   ],
   "source": [
    "get_coordinates_for_blood_nodes(coordinates_of_nodes_fem, only_female=True, bundle_edges=True)"
   ]
  },
  {
   "cell_type": "code",
   "execution_count": 75,
   "metadata": {},
   "outputs": [
    {
     "name": "stderr",
     "output_type": "stream",
     "text": [
      "/tmp/ipykernel_129783/891491612.py:56: SettingWithCopyWarning: \n",
      "A value is trying to be set on a copy of a slice from a DataFrame.\n",
      "Try using .loc[row_indexer,col_indexer] = value instead\n",
      "\n",
      "See the caveats in the documentation: https://pandas.pydata.org/pandas-docs/stable/user_guide/indexing.html#returning-a-view-versus-a-copy\n",
      "  pruned_blood_nodes['coordinates'] = pruned_blood_nodes['graph_int_id'].apply(lambda x: coordinates_of_nodes[x] if x in coordinates_of_nodes else np.nan)\n"
     ]
    },
    {
     "name": "stdout",
     "output_type": "stream",
     "text": [
      "Fig saved as \"./viz_v2.0/blood_viz_male_bundled.svg\"\n"
     ]
    },
    {
     "data": {
      "image/png": "[encoded data removed]",
      "text/plain": [
       "<Figure size 1720x1720 with 1 Axes>"
      ]
     },
     "metadata": {},
     "output_type": "display_data"
    }
   ],
   "source": [
    "get_coordinates_for_blood_nodes(coordinates_of_nodes_mal, only_male=True, bundle_edges=True)"
   ]
  },
  {
   "cell_type": "markdown",
   "metadata": {},
   "source": [
    "# Overlay the SVG figures using svgutils"
   ]
  },
  {
   "cell_type": "code",
   "execution_count": 76,
   "metadata": {},
   "outputs": [],
   "source": [
    "def flip_text_horizontally(input_file, output_file):\n",
    "    # Parse the SVG file\n",
    "    tree = ET.parse(input_file)\n",
    "    root = tree.getroot()\n",
    "\n",
    "    # Get the SVG namespace\n",
    "    ns = {'svg': 'http://www.w3.org/2000/svg'}\n",
    "    ET.register_namespace('', ns['svg'])  # Prevent unnecessary prefixes in output\n",
    "\n",
    "    # Loop through all text elements in the SVG\n",
    "    for text_element in root.findall('.//svg:text', ns):\n",
    "        # Get the text element's position (x, y)\n",
    "        x = float(text_element.attrib.get('x', '0'))\n",
    "        y = float(text_element.attrib.get('y', '0'))\n",
    "\n",
    "        # Apply a transformation to flip the text horizontally\n",
    "        current_transform = text_element.attrib.get('transform', '')\n",
    "        flip_transform = f\"translate({2 * x}, 0) scale(-1, 1)\"\n",
    "        text_element.set('transform', f\"{current_transform} {flip_transform}\".strip())\n",
    "\n",
    "    # Save the modified SVG\n",
    "    tree.write(output_file)\n",
    "    print(f\"Text-flipped SVG saved to {output_file}\")"
   ]
  },
  {
   "cell_type": "code",
   "execution_count": 77,
   "metadata": {},
   "outputs": [
    {
     "name": "stdout",
     "output_type": "stream",
     "text": [
      "Text-flipped SVG saved to ./viz_v2.0/vega_female_name_viz_flipped.svg\n"
     ]
    }
   ],
   "source": [
    "# Example usage\n",
    "input_svg = f\"{output_path}/vega_female_name_viz.svg\"  # Path to your input SVG file\n",
    "output_svg = f\"{output_path}/vega_female_name_viz_flipped.svg\"\n",
    "flip_text_horizontally(input_svg, output_svg)"
   ]
  },
  {
   "cell_type": "code",
   "execution_count": 78,
   "metadata": {},
   "outputs": [],
   "source": [
    "template = st.fromfile(f'{output_path}/vega_female_name_viz_flipped.svg')\n",
    "template.set_size(size=(str(canvas_size), str(canvas_size)))\n",
    "second_svg = st.fromfile(f'{output_path}/blood_viz_female_bundled.svg')\n",
    "second_svg.set_size(size=(str(canvas_size), str(canvas_size)))"
   ]
  },
  {
   "cell_type": "code",
   "execution_count": 79,
   "metadata": {},
   "outputs": [
    {
     "name": "stdout",
     "output_type": "stream",
     "text": [
      "1720 1720\n",
      "1720 1720\n"
     ]
    }
   ],
   "source": [
    "print(template.height, template.width) \n",
    "print(second_svg.height, second_svg.width) "
   ]
  },
  {
   "cell_type": "code",
   "execution_count": 80,
   "metadata": {},
   "outputs": [],
   "source": [
    "template.append(second_svg)\n",
    "template.save(f'{output_path}/female_butterfly_wing.svg')"
   ]
  },
  {
   "cell_type": "code",
   "execution_count": 81,
   "metadata": {},
   "outputs": [],
   "source": [
    "template = st.fromfile(f'{output_path}/vega_male_name_viz.svg')\n",
    "template.set_size(size=(str(canvas_size), str(canvas_size)))\n",
    "second_svg = st.fromfile(f'{output_path}/blood_viz_male_bundled.svg')\n",
    "second_svg.set_size(size=(str(canvas_size), str(canvas_size)))"
   ]
  },
  {
   "cell_type": "code",
   "execution_count": 82,
   "metadata": {},
   "outputs": [
    {
     "name": "stdout",
     "output_type": "stream",
     "text": [
      "1720 1720\n",
      "1720 1720\n"
     ]
    }
   ],
   "source": [
    "print(template.height, template.width) \n",
    "print(second_svg.height, second_svg.width) "
   ]
  },
  {
   "cell_type": "code",
   "execution_count": 83,
   "metadata": {},
   "outputs": [],
   "source": [
    "template.append(second_svg)\n",
    "template.save(f'{output_path}/male_butterfly_wing.svg')"
   ]
  },
  {
   "cell_type": "markdown",
   "metadata": {},
   "source": [
    "# In Adobe Illustrator\n",
    "Place female_butterfly_wing.svg in AI:\n",
    "\n",
    "X: 860\n",
    "\n",
    "Y: 890\n",
    "\n",
    "Flip it horizontally,\n",
    "\n",
    "Place male_butterfly_wing.svg:\n",
    "\n",
    "X: 920\n",
    "\n",
    "Y: 890\n",
    "\n",
    "Add legend and Save file"
   ]
  },
  {
   "cell_type": "code",
   "execution_count": null,
   "metadata": {},
   "outputs": [],
   "source": []
  },
  {
   "cell_type": "code",
   "execution_count": null,
   "metadata": {},
   "outputs": [],
   "source": []
  },
  {
   "cell_type": "code",
   "execution_count": null,
   "metadata": {},
   "outputs": [],
   "source": []
  },
  {
   "cell_type": "code",
   "execution_count": null,
   "metadata": {},
   "outputs": [],
   "source": []
  }
 ],
 "metadata": {
  "kernelspec": {
   "display_name": "Python 3 (ipykernel)",
   "language": "python",
   "name": "python3"
  },
  "language_info": {
   "codemirror_mode": {
    "name": "ipython",
    "version": 3
   },
   "file_extension": ".py",
   "mimetype": "text/x-python",
   "name": "python",
   "nbconvert_exporter": "python",
   "pygments_lexer": "ipython3",
   "version": "3.12.7"
  }
 },
 "nbformat": 4,
 "nbformat_minor": 4
}
